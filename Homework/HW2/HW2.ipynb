{
 "metadata": {
  "name": "",
  "signature": "sha256:b51b6becad8dbedb2f53f2183d56c7174ab1139076d8dcd8f0be69535e64b71c"
 },
 "nbformat": 3,
 "nbformat_minor": 0,
 "worksheets": [
  {
   "cells": [
    {
     "cell_type": "code",
     "collapsed": false,
     "input": [
      "#QUESTION 1"
     ],
     "language": "python",
     "metadata": {},
     "outputs": []
    },
    {
     "cell_type": "code",
     "collapsed": false,
     "input": [
      "from sklearn.neighbors import KNeighborsClassifier"
     ],
     "language": "python",
     "metadata": {},
     "outputs": [],
     "prompt_number": 95
    },
    {
     "cell_type": "code",
     "collapsed": false,
     "input": [
      "#import Iris data csv file\n",
      "import pandas as pd\n",
      "df=pd.read_csv('iris.csv', sep=',',header=None)\n",
      "\n",
      "#remove last row of nans\n",
      "df = df.ix[0:149,:]\n",
      "#set Iris measurement data to X\n",
      "X = df.ix[:,0:3]\n",
      "#set Iris type data to y\n",
      "y = df.ix[:,4]\n",
      "#convert strings to int\n",
      "y[y=='Iris-setosa']=0\n",
      "y[y=='Iris-versicolor']=1\n",
      "y[y=='Iris-virginica']=2\n",
      "y = y.astype(int)\n"
     ],
     "language": "python",
     "metadata": {},
     "outputs": [],
     "prompt_number": 103
    },
    {
     "cell_type": "code",
     "collapsed": false,
     "input": [
      "from sklearn.cross_validation import train_test_split\n",
      "X_train, X_test, y_train, y_test = train_test_split( X, y, test_size=0.20, random_state=0)"
     ],
     "language": "python",
     "metadata": {},
     "outputs": [],
     "prompt_number": 97
    },
    {
     "cell_type": "code",
     "collapsed": false,
     "input": [
      "# Train KNN classifier defined function on the train data\n",
      "from sklearn.neighbors import KNeighborsClassifier"
     ],
     "language": "python",
     "metadata": {},
     "outputs": [],
     "prompt_number": 98
    },
    {
     "cell_type": "code",
     "collapsed": false,
     "input": [
      "myknn = KNeighborsClassifier(3).fit(X_train,y_train)"
     ],
     "language": "python",
     "metadata": {},
     "outputs": [],
     "prompt_number": 99
    },
    {
     "cell_type": "code",
     "collapsed": false,
     "input": [
      "myknn.score(X_test, y_test)"
     ],
     "language": "python",
     "metadata": {},
     "outputs": [
      {
       "metadata": {},
       "output_type": "pyout",
       "prompt_number": 100,
       "text": [
        "0.96666666666666667"
       ]
      }
     ],
     "prompt_number": 100
    },
    {
     "cell_type": "code",
     "collapsed": false,
     "input": [
      "#QUESTION 2"
     ],
     "language": "python",
     "metadata": {},
     "outputs": []
    },
    {
     "cell_type": "code",
     "collapsed": false,
     "input": [
      "from sklearn.cross_validation import KFold"
     ],
     "language": "python",
     "metadata": {},
     "outputs": [],
     "prompt_number": 331
    },
    {
     "cell_type": "code",
     "collapsed": false,
     "input": [
      "# generic cross validation function\n",
      "def cross_validate(X, y, classifier, k_fold) :\n",
      "\n",
      "    # derive a set of (random) training and testing indices\n",
      "    k_fold_indices = KFold( len(X), n_folds=k_fold,\n",
      "                           indices=False, shuffle=True,\n",
      "                           random_state=0)\n",
      "\n",
      "    k_score_total = 0\n",
      "    # for each training and testing slices run the classifier, and score the results\n",
      "    for train_slice, test_slice in k_fold_indices :\n",
      "\n",
      "        model = classifier(X[ train_slice  ],\n",
      "                         y[ train_slice  ])\n",
      "\n",
      "        k_score = model.score(X[ test_slice ],\n",
      "                              y[ test_slice ])\n",
      "\n",
      "        k_score_total += k_score\n",
      "\n",
      "    # return the average accuracy\n",
      "    return k_score_total/k_fold"
     ],
     "language": "python",
     "metadata": {},
     "outputs": [],
     "prompt_number": 332
    },
    {
     "cell_type": "code",
     "collapsed": false,
     "input": [
      "cross_validate(X, y, KNeighborsClassifier(3).fit, 5)"
     ],
     "language": "python",
     "metadata": {},
     "outputs": [
      {
       "metadata": {},
       "output_type": "pyout",
       "prompt_number": 333,
       "text": [
        "0.95333333333333337"
       ]
      }
     ],
     "prompt_number": 333
    },
    {
     "cell_type": "code",
     "collapsed": false,
     "input": [
      "#QUESTION 3"
     ],
     "language": "python",
     "metadata": {},
     "outputs": [],
     "prompt_number": 334
    },
    {
     "cell_type": "code",
     "collapsed": false,
     "input": [
      "#For K from 1-199, run the KNN classifier, produce the test accuracy score, \n",
      "    #produce the 5-Fold cross validation score,\n",
      "    #sum the two scores and add them to a list called results\n",
      "results = []\n",
      "for i in range(1,200):\n",
      "#     myknn = KNeighborsClassifier(i).fit(X_train,y_train) \n",
      "#     myknn.score(X_test, y_test)\n",
      "#     cross_validate(X, y, KNeighborsClassifier(i).fit, 5)\n",
      "#    score = myknn.score(X_test, y_test) + cross_validate(X, y, KNeighborsClassifier(i).fit, 5)\n",
      "    score = cross_validate(X, y, KNeighborsClassifier(i).fit, 5)\n",
      "    results.append(score)\n",
      "\n",
      "\n",
      "\n",
      "    \n"
     ],
     "language": "python",
     "metadata": {},
     "outputs": [],
     "prompt_number": 336
    },
    {
     "cell_type": "code",
     "collapsed": false,
     "input": [
      "# find K that maximizes accuracy, \n",
      "#     where accuracy is defined as sum of KNN Classifier test score and 5-Fold Cross Validation score\n",
      "m = max(results)\n",
      "[i for i, j in enumerate(results) if j == m]\n",
      "#Optimal K is index location + 1\n",
      "\n"
     ],
     "language": "python",
     "metadata": {},
     "outputs": [
      {
       "metadata": {},
       "output_type": "pyout",
       "prompt_number": 352,
       "text": [
        "[10, 14]"
       ]
      }
     ],
     "prompt_number": 352
    },
    {
     "cell_type": "code",
     "collapsed": false,
     "input": [
      "Ks = []\n",
      "accuracy = []\n",
      "\n",
      "for r,t in enumerate(results):\n",
      "#     print r, \"   \",t\n",
      "    Ks.append(r)\n",
      "    accuracy.append(t)\n",
      "    "
     ],
     "language": "python",
     "metadata": {},
     "outputs": [],
     "prompt_number": 353
    },
    {
     "cell_type": "code",
     "collapsed": false,
     "input": [
      "#QUESTION 4"
     ],
     "language": "python",
     "metadata": {},
     "outputs": [],
     "prompt_number": 354
    },
    {
     "cell_type": "code",
     "collapsed": false,
     "input": [
      "from matplotlib import pyplot as plt\n",
      "import numpy as np\n",
      "from matplotlib.ticker import FormatStrFormatter"
     ],
     "language": "python",
     "metadata": {},
     "outputs": [],
     "prompt_number": 381
    },
    {
     "cell_type": "code",
     "collapsed": false,
     "input": [
      "# Instantiate the top-level figure for this plotting exercise\n",
      "fig = plt.figure(0)"
     ],
     "language": "python",
     "metadata": {},
     "outputs": [],
     "prompt_number": 382
    },
    {
     "cell_type": "code",
     "collapsed": false,
     "input": [
      "# Title our figure. This is a different command than titling an individual subplot.\n",
      "fig.suptitle('Accuracy for K Neighbors', fontsize=14)"
     ],
     "language": "python",
     "metadata": {},
     "outputs": [
      {
       "metadata": {},
       "output_type": "pyout",
       "prompt_number": 383,
       "text": [
        "<matplotlib.text.Text at 0x10f2d92d0>"
       ]
      }
     ],
     "prompt_number": 383
    },
    {
     "cell_type": "code",
     "collapsed": false,
     "input": [
      "# Sets the number of decimal places in our y-axis tick labels\n",
      "ax = fig.add_subplot(111)\n",
      "# fig.subplots_adjust(top=0.85)\n",
      "ax.set_xlabel('K Neighbors')\n",
      "ax.set_ylabel('Sum of KNN and KFolds Accuracy Measures')\n",
      "majorFormatter = FormatStrFormatter('%.2f')\n",
      "ax.yaxis.set_major_formatter(majorFormatter)"
     ],
     "language": "python",
     "metadata": {},
     "outputs": [],
     "prompt_number": 384
    },
    {
     "cell_type": "code",
     "collapsed": false,
     "input": [
      "Ks = map(lambda x:x+1, Ks)\n",
      "\n",
      "ax.plot(Ks, accuracy)"
     ],
     "language": "python",
     "metadata": {},
     "outputs": [
      {
       "metadata": {},
       "output_type": "pyout",
       "prompt_number": 385,
       "text": [
        "[<matplotlib.lines.Line2D at 0x10f5bd810>]"
       ]
      }
     ],
     "prompt_number": 385
    },
    {
     "cell_type": "code",
     "collapsed": false,
     "input": [
      "plt.show()\n",
      "#accuracy is much higher for smaller K; \n",
      "#the data is tightly clustered, so fewer neighbors are needed to predict classification"
     ],
     "language": "python",
     "metadata": {},
     "outputs": [],
     "prompt_number": 386
    },
    {
     "cell_type": "code",
     "collapsed": false,
     "input": [
      "#QUESTION 5 - Bonus"
     ],
     "language": "python",
     "metadata": {},
     "outputs": []
    },
    {
     "cell_type": "code",
     "collapsed": false,
     "input": [
      "# generic cross validation function\n",
      "\n",
      "    \n",
      "def cross_validate(X, y, classifier, k_fold) :\n",
      "\n",
      "    # derive a set of (random) training and testing indices\n",
      "    k_fold_indices = KFold( len(X), n_folds=k_fold,\n",
      "                           indices=False, shuffle=True,\n",
      "                           random_state=0)\n",
      "\n",
      "    k_score_total = 0\n",
      "    # for each training and testing slices run the classifier, and score the results\n",
      "    for train_slice, test_slice in k_fold_indices :\n",
      "\n",
      "        model = classifier(X[ train_slice  ],\n",
      "                         y[ train_slice  ])\n",
      "\n",
      "        k_score = model.score(X[ test_slice ],\n",
      "                              y[ test_slice ])\n",
      "\n",
      "        k_score_total += k_score\n",
      "\n",
      "    # return the average accuracy\n",
      "    return k_score_total/k_fold"
     ],
     "language": "python",
     "metadata": {},
     "outputs": []
    },
    {
     "cell_type": "code",
     "collapsed": false,
     "input": [
      "#From Question 3, optimal K is 11\n",
      "# K = 11\n",
      "# vary Number of Folds [ 2, 3, 5, 6, 10, 15\n",
      "Kfolds = []\n",
      "for k_fold in [2, 3, 4, 5, 6, 10, 15, 20, 25, 50, 100]:\n",
      "    score = cross_validate(X, y, KNeighborsClassifier(11).fit, k_fold)\n",
      "    Kfolds.append(score)\n",
      "Kfolds"
     ],
     "language": "python",
     "metadata": {},
     "outputs": [
      {
       "metadata": {},
       "output_type": "pyout",
       "prompt_number": 410,
       "text": [
        "[0.95333333333333337,\n",
        " 0.96666666666666667,\n",
        " 0.96692745376955913,\n",
        " 0.96666666666666656,\n",
        " 0.96666666666666667,\n",
        " 0.95999999999999996,\n",
        " 0.96666666666666667,\n",
        " 0.96696428571428572,\n",
        " 0.96666666666666656,\n",
        " 0.96666666666666656,\n",
        " 0.96499999999999997]"
       ]
      }
     ],
     "prompt_number": 410
    },
    {
     "cell_type": "code",
     "collapsed": false,
     "input": [
      "# Answer = the optimal K has already been determined, the various number of folds show consistency for K=11"
     ],
     "language": "python",
     "metadata": {},
     "outputs": [],
     "prompt_number": 408
    },
    {
     "cell_type": "code",
     "collapsed": false,
     "input": [],
     "language": "python",
     "metadata": {},
     "outputs": []
    }
   ],
   "metadata": {}
  }
 ]
}