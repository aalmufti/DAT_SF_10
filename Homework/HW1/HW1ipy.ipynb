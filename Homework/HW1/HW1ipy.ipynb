{
 "metadata": {
  "name": "",
  "signature": "sha256:b3e23475fc5e96cc71e8ac6c219bfe9a599da5afd7752bdde00459c035b088f3"
 },
 "nbformat": 3,
 "nbformat_minor": 0,
 "worksheets": [
  {
   "cells": [
    {
     "cell_type": "code",
     "collapsed": false,
     "input": [
      "import json\n",
      "data = json.load(open('/Users/aalmufti/GA/DAT_SF_10/Homework/HW1/ga_hw_logins.json'))\n",
      "# print data"
     ],
     "language": "python",
     "metadata": {},
     "outputs": [],
     "prompt_number": 115
    },
    {
     "cell_type": "code",
     "collapsed": false,
     "input": [
      "from datetime import datetime\n",
      "\n",
      "logins = data\n",
      "for timestamp in logins:\n",
      "    datetime_file = datetime.strptime(timestamp, '%Y-%m-%d %H:%M:%S') \n",
      "#     print datetime_file\n",
      "#     print datetime_file.day\n",
      "\n"
     ],
     "language": "python",
     "metadata": {},
     "outputs": [],
     "prompt_number": 128
    },
    {
     "cell_type": "code",
     "collapsed": false,
     "input": [
      "import sqlite3\n",
      "con = sqlite3.connect(\":memory:\")\n",
      "cur = con.cursor()\n",
      "cur.execute(\"CREATE TABLE datetimes (year, month, day, hour, minute, second)\")\n",
      "# cur.execute(\"INSERT INTO datetimes (year, month, day, hour, minute, second) VALUES (?,?,?,?,?,?)\", (\"2014\", \"01\", \"20\", \"00\", \"01\", \"31\"))\n",
      "# con.commit()\n",
      "# cur.execute(\"SELECT * FROM datetimes\")"
     ],
     "language": "python",
     "metadata": {},
     "outputs": [
      {
       "metadata": {},
       "output_type": "pyout",
       "prompt_number": 121,
       "text": [
        "<sqlite3.Cursor at 0x10390e2d0>"
       ]
      }
     ],
     "prompt_number": 121
    },
    {
     "cell_type": "code",
     "collapsed": false,
     "input": [],
     "language": "python",
     "metadata": {},
     "outputs": [],
     "prompt_number": 96
    },
    {
     "cell_type": "code",
     "collapsed": false,
     "input": [],
     "language": "python",
     "metadata": {},
     "outputs": []
    }
   ],
   "metadata": {}
  }
 ]
}