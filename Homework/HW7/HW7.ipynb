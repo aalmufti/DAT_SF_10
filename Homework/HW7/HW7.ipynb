{
 "metadata": {
  "name": "",
  "signature": "sha256:dd50616313b1b7bbcadbfbefd971b64767ac70c594cd4b186ad195e56e8cf415"
 },
 "nbformat": 3,
 "nbformat_minor": 0,
 "worksheets": [
  {
   "cells": [
    {
     "cell_type": "code",
     "collapsed": false,
     "input": [
      "import pandas as pd\n",
      "import numpy as np\n",
      "\n",
      "%matplotlib inline"
     ],
     "language": "python",
     "metadata": {},
     "outputs": [],
     "prompt_number": 1
    },
    {
     "cell_type": "code",
     "collapsed": false,
     "input": [
      "#bring in the wine data\n",
      "data = pd.read_csv('https://archive.ics.uci.edu/ml/machine-learning-databases/wine/wine.data', header=None)"
     ],
     "language": "python",
     "metadata": {},
     "outputs": [],
     "prompt_number": 2
    },
    {
     "cell_type": "code",
     "collapsed": false,
     "input": [
      "data.info()"
     ],
     "language": "python",
     "metadata": {},
     "outputs": [
      {
       "output_type": "stream",
       "stream": "stdout",
       "text": [
        "<class 'pandas.core.frame.DataFrame'>\n",
        "Int64Index: 178 entries, 0 to 177\n",
        "Data columns (total 14 columns):\n",
        "0     178 non-null int64\n",
        "1     178 non-null float64\n",
        "2     178 non-null float64\n",
        "3     178 non-null float64\n",
        "4     178 non-null float64\n",
        "5     178 non-null int64\n",
        "6     178 non-null float64\n",
        "7     178 non-null float64\n",
        "8     178 non-null float64\n",
        "9     178 non-null float64\n",
        "10    178 non-null float64\n",
        "11    178 non-null float64\n",
        "12    178 non-null float64\n",
        "13    178 non-null int64\n",
        "dtypes: float64(11), int64(3)"
       ]
      }
     ],
     "prompt_number": 3
    },
    {
     "cell_type": "code",
     "collapsed": false,
     "input": [
      "data.head()"
     ],
     "language": "python",
     "metadata": {},
     "outputs": [
      {
       "html": [
        "<div style=\"max-height:1000px;max-width:1500px;overflow:auto;\">\n",
        "<table border=\"1\" class=\"dataframe\">\n",
        "  <thead>\n",
        "    <tr style=\"text-align: right;\">\n",
        "      <th></th>\n",
        "      <th>0</th>\n",
        "      <th>1</th>\n",
        "      <th>2</th>\n",
        "      <th>3</th>\n",
        "      <th>4</th>\n",
        "      <th>5</th>\n",
        "      <th>6</th>\n",
        "      <th>7</th>\n",
        "      <th>8</th>\n",
        "      <th>9</th>\n",
        "      <th>10</th>\n",
        "      <th>11</th>\n",
        "      <th>12</th>\n",
        "      <th>13</th>\n",
        "    </tr>\n",
        "  </thead>\n",
        "  <tbody>\n",
        "    <tr>\n",
        "      <th>0</th>\n",
        "      <td> 1</td>\n",
        "      <td> 14.23</td>\n",
        "      <td> 1.71</td>\n",
        "      <td> 2.43</td>\n",
        "      <td> 15.6</td>\n",
        "      <td> 127</td>\n",
        "      <td> 2.80</td>\n",
        "      <td> 3.06</td>\n",
        "      <td> 0.28</td>\n",
        "      <td> 2.29</td>\n",
        "      <td> 5.64</td>\n",
        "      <td> 1.04</td>\n",
        "      <td> 3.92</td>\n",
        "      <td> 1065</td>\n",
        "    </tr>\n",
        "    <tr>\n",
        "      <th>1</th>\n",
        "      <td> 1</td>\n",
        "      <td> 13.20</td>\n",
        "      <td> 1.78</td>\n",
        "      <td> 2.14</td>\n",
        "      <td> 11.2</td>\n",
        "      <td> 100</td>\n",
        "      <td> 2.65</td>\n",
        "      <td> 2.76</td>\n",
        "      <td> 0.26</td>\n",
        "      <td> 1.28</td>\n",
        "      <td> 4.38</td>\n",
        "      <td> 1.05</td>\n",
        "      <td> 3.40</td>\n",
        "      <td> 1050</td>\n",
        "    </tr>\n",
        "    <tr>\n",
        "      <th>2</th>\n",
        "      <td> 1</td>\n",
        "      <td> 13.16</td>\n",
        "      <td> 2.36</td>\n",
        "      <td> 2.67</td>\n",
        "      <td> 18.6</td>\n",
        "      <td> 101</td>\n",
        "      <td> 2.80</td>\n",
        "      <td> 3.24</td>\n",
        "      <td> 0.30</td>\n",
        "      <td> 2.81</td>\n",
        "      <td> 5.68</td>\n",
        "      <td> 1.03</td>\n",
        "      <td> 3.17</td>\n",
        "      <td> 1185</td>\n",
        "    </tr>\n",
        "    <tr>\n",
        "      <th>3</th>\n",
        "      <td> 1</td>\n",
        "      <td> 14.37</td>\n",
        "      <td> 1.95</td>\n",
        "      <td> 2.50</td>\n",
        "      <td> 16.8</td>\n",
        "      <td> 113</td>\n",
        "      <td> 3.85</td>\n",
        "      <td> 3.49</td>\n",
        "      <td> 0.24</td>\n",
        "      <td> 2.18</td>\n",
        "      <td> 7.80</td>\n",
        "      <td> 0.86</td>\n",
        "      <td> 3.45</td>\n",
        "      <td> 1480</td>\n",
        "    </tr>\n",
        "    <tr>\n",
        "      <th>4</th>\n",
        "      <td> 1</td>\n",
        "      <td> 13.24</td>\n",
        "      <td> 2.59</td>\n",
        "      <td> 2.87</td>\n",
        "      <td> 21.0</td>\n",
        "      <td> 118</td>\n",
        "      <td> 2.80</td>\n",
        "      <td> 2.69</td>\n",
        "      <td> 0.39</td>\n",
        "      <td> 1.82</td>\n",
        "      <td> 4.32</td>\n",
        "      <td> 1.04</td>\n",
        "      <td> 2.93</td>\n",
        "      <td>  735</td>\n",
        "    </tr>\n",
        "  </tbody>\n",
        "</table>\n",
        "</div>"
       ],
       "metadata": {},
       "output_type": "pyout",
       "prompt_number": 4,
       "text": [
        "   0      1     2     3     4    5     6     7     8     9     10    11    12  \\\n",
        "0   1  14.23  1.71  2.43  15.6  127  2.80  3.06  0.28  2.29  5.64  1.04  3.92   \n",
        "1   1  13.20  1.78  2.14  11.2  100  2.65  2.76  0.26  1.28  4.38  1.05  3.40   \n",
        "2   1  13.16  2.36  2.67  18.6  101  2.80  3.24  0.30  2.81  5.68  1.03  3.17   \n",
        "3   1  14.37  1.95  2.50  16.8  113  3.85  3.49  0.24  2.18  7.80  0.86  3.45   \n",
        "4   1  13.24  2.59  2.87  21.0  118  2.80  2.69  0.39  1.82  4.32  1.04  2.93   \n",
        "\n",
        "     13  \n",
        "0  1065  \n",
        "1  1050  \n",
        "2  1185  \n",
        "3  1480  \n",
        "4   735  "
       ]
      }
     ],
     "prompt_number": 4
    },
    {
     "cell_type": "code",
     "collapsed": false,
     "input": [
      "#Set target and features\n",
      "target = data[0].values\n",
      "features = data.drop(0, axis=1).values"
     ],
     "language": "python",
     "metadata": {},
     "outputs": [],
     "prompt_number": 5
    },
    {
     "cell_type": "code",
     "collapsed": false,
     "input": [
      "#bring in SVM\n",
      "from sklearn import svm"
     ],
     "language": "python",
     "metadata": {},
     "outputs": [],
     "prompt_number": 6
    },
    {
     "cell_type": "code",
     "collapsed": false,
     "input": [
      "#set the SVM to linear\n",
      "clf = svm.SVC(kernel='linear')"
     ],
     "language": "python",
     "metadata": {},
     "outputs": [],
     "prompt_number": 7
    },
    {
     "cell_type": "code",
     "collapsed": false,
     "input": [
      "clf.fit(features, target)"
     ],
     "language": "python",
     "metadata": {},
     "outputs": [
      {
       "metadata": {},
       "output_type": "pyout",
       "prompt_number": 8,
       "text": [
        "SVC(C=1.0, cache_size=200, class_weight=None, coef0=0.0, degree=3, gamma=0.0,\n",
        "  kernel='linear', max_iter=-1, probability=False, random_state=None,\n",
        "  shrinking=True, tol=0.001, verbose=False)"
       ]
      }
     ],
     "prompt_number": 8
    },
    {
     "cell_type": "code",
     "collapsed": false,
     "input": [
      "from sklearn.cross_validation import KFold\n",
      "\n",
      "def cross_validate(X, y, classifier, k_fold) :\n",
      "\n",
      "    # derive a set of (random) training and testing indices\n",
      "    k_fold_indices = KFold(len(X), n_folds=k_fold,\n",
      "                           shuffle=True, random_state=0)\n",
      "\n",
      "    k_score_total = 0\n",
      "    # for each training and testing slices run the classifier, and score the results\n",
      "    for train_slice, test_slice in k_fold_indices :\n",
      "\n",
      "        model = classifier(X[ train_slice  ],\n",
      "                         y[ train_slice  ])\n",
      "\n",
      "        k_score = model.score(X[ test_slice ],\n",
      "                              y[ test_slice ])\n",
      "\n",
      "        k_score_total += k_score\n",
      "\n",
      "    # return the average accuracy\n",
      "    return k_score_total/k_fold"
     ],
     "language": "python",
     "metadata": {},
     "outputs": [],
     "prompt_number": 9
    },
    {
     "cell_type": "code",
     "collapsed": false,
     "input": [
      "cross_validate(features, target, clf.fit, 10)"
     ],
     "language": "python",
     "metadata": {},
     "outputs": [
      {
       "metadata": {},
       "output_type": "pyout",
       "prompt_number": 10,
       "text": [
        "0.95490196078431366"
       ]
      }
     ],
     "prompt_number": 10
    },
    {
     "cell_type": "code",
     "collapsed": false,
     "input": [
      "#bring in normalization\n",
      "from sklearn import preprocessing"
     ],
     "language": "python",
     "metadata": {},
     "outputs": [],
     "prompt_number": 11
    },
    {
     "cell_type": "code",
     "collapsed": false,
     "input": [
      "#normalize the data\n",
      "featuresnorm = preprocessing.normalize(features, axis=0)"
     ],
     "language": "python",
     "metadata": {},
     "outputs": [],
     "prompt_number": 12
    },
    {
     "cell_type": "code",
     "collapsed": false,
     "input": [
      "cross_validate(featuresnorm, target, clf.fit, 10)"
     ],
     "language": "python",
     "metadata": {},
     "outputs": [
      {
       "metadata": {},
       "output_type": "pyout",
       "prompt_number": 13,
       "text": [
        "0.39901960784313723"
       ]
      }
     ],
     "prompt_number": 13
    },
    {
     "cell_type": "code",
     "collapsed": false,
     "input": [
      "#set up pipeline\n",
      "from sklearn.pipeline import Pipeline\n",
      "#from sklearn.svm import SVC\n",
      "from sklearn.preprocessing import Normalizer"
     ],
     "language": "python",
     "metadata": {},
     "outputs": [],
     "prompt_number": 14
    },
    {
     "cell_type": "code",
     "collapsed": false,
     "input": [
      "estimators = [('normalize', Normalizer()), ('svm', svm.SVC())]\n",
      "pipe = Pipeline(estimators)\n",
      "pipe"
     ],
     "language": "python",
     "metadata": {},
     "outputs": [
      {
       "metadata": {},
       "output_type": "pyout",
       "prompt_number": 15,
       "text": [
        "Pipeline(steps=[('normalize', Normalizer(copy=True, norm='l2')), ('svm', SVC(C=1.0, cache_size=200, class_weight=None, coef0=0.0, degree=3, gamma=0.0,\n",
        "  kernel='rbf', max_iter=-1, probability=False, random_state=None,\n",
        "  shrinking=True, tol=0.001, verbose=False))])"
       ]
      }
     ],
     "prompt_number": 15
    },
    {
     "cell_type": "code",
     "collapsed": false,
     "input": [
      "cross_validate(features, target, pipe.fit, 10)"
     ],
     "language": "python",
     "metadata": {},
     "outputs": [
      {
       "metadata": {},
       "output_type": "pyout",
       "prompt_number": 16,
       "text": [
        "0.39901960784313723"
       ]
      }
     ],
     "prompt_number": 16
    },
    {
     "cell_type": "code",
     "collapsed": false,
     "input": [
      "#run a gridsearch\n",
      "from sklearn.grid_search import GridSearchCV\n",
      "\n",
      "parameters = {'kernel':('linear', 'rbf', 'poly'), 'C':[1, 10, 100], 'gamma':[0.1, 0.001, 0.00001]}"
     ],
     "language": "python",
     "metadata": {},
     "outputs": [],
     "prompt_number": 35
    },
    {
     "cell_type": "code",
     "collapsed": false,
     "input": [
      "#svm = svm.SVC()\n",
      "GS = GridSearchCV(svm, parameters)\n",
      "GS"
     ],
     "language": "python",
     "metadata": {},
     "outputs": [
      {
       "metadata": {},
       "output_type": "pyout",
       "prompt_number": 36,
       "text": [
        "GridSearchCV(cv=None,\n",
        "       estimator=SVC(C=1.0, cache_size=200, class_weight=None, coef0=0.0, degree=3, gamma=0.0,\n",
        "  kernel='rbf', max_iter=-1, probability=False, random_state=None,\n",
        "  shrinking=True, tol=0.001, verbose=False),\n",
        "       fit_params={}, iid=True, loss_func=None, n_jobs=1,\n",
        "       param_grid={'kernel': ('linear', 'rbf', 'poly'), 'C': [1, 10, 100], 'gamma': [0.1, 0.001, 1e-05]},\n",
        "       pre_dispatch='2*n_jobs', refit=True, score_func=None, scoring=None,\n",
        "       verbose=0)"
       ]
      }
     ],
     "prompt_number": 36
    },
    {
     "cell_type": "code",
     "collapsed": false,
     "input": [
      "GS.get_params()"
     ],
     "language": "python",
     "metadata": {},
     "outputs": [
      {
       "metadata": {},
       "output_type": "pyout",
       "prompt_number": 37,
       "text": [
        "{'cv': None,\n",
        " 'estimator': SVC(C=1.0, cache_size=200, class_weight=None, coef0=0.0, degree=3, gamma=0.0,\n",
        "   kernel='rbf', max_iter=-1, probability=False, random_state=None,\n",
        "   shrinking=True, tol=0.001, verbose=False),\n",
        " 'estimator__C': 1.0,\n",
        " 'estimator__cache_size': 200,\n",
        " 'estimator__class_weight': None,\n",
        " 'estimator__coef0': 0.0,\n",
        " 'estimator__degree': 3,\n",
        " 'estimator__gamma': 0.0,\n",
        " 'estimator__kernel': 'rbf',\n",
        " 'estimator__max_iter': -1,\n",
        " 'estimator__probability': False,\n",
        " 'estimator__random_state': None,\n",
        " 'estimator__shrinking': True,\n",
        " 'estimator__tol': 0.001,\n",
        " 'estimator__verbose': False,\n",
        " 'fit_params': {},\n",
        " 'iid': True,\n",
        " 'loss_func': None,\n",
        " 'n_jobs': 1,\n",
        " 'param_grid': {'C': [1, 10, 100],\n",
        "  'gamma': [0.1, 0.001, 1e-05],\n",
        "  'kernel': ('linear', 'rbf', 'poly')},\n",
        " 'pre_dispatch': '2*n_jobs',\n",
        " 'refit': True,\n",
        " 'score_func': None,\n",
        " 'scoring': None,\n",
        " 'verbose': 0}"
       ]
      }
     ],
     "prompt_number": 37
    },
    {
     "cell_type": "code",
     "collapsed": false,
     "input": [
      "GS.fit(features, target)"
     ],
     "language": "python",
     "metadata": {},
     "outputs": [
      {
       "metadata": {},
       "output_type": "pyout",
       "prompt_number": 38,
       "text": [
        "GridSearchCV(cv=None,\n",
        "       estimator=SVC(C=1.0, cache_size=200, class_weight=None, coef0=0.0, degree=3, gamma=0.0,\n",
        "  kernel='rbf', max_iter=-1, probability=False, random_state=None,\n",
        "  shrinking=True, tol=0.001, verbose=False),\n",
        "       fit_params={}, iid=True, loss_func=None, n_jobs=1,\n",
        "       param_grid={'kernel': ('linear', 'rbf', 'poly'), 'C': [1, 10, 100], 'gamma': [0.1, 0.001, 1e-05]},\n",
        "       pre_dispatch='2*n_jobs', refit=True, score_func=None, scoring=None,\n",
        "       verbose=0)"
       ]
      }
     ],
     "prompt_number": 38
    },
    {
     "cell_type": "code",
     "collapsed": false,
     "input": [
      "GS.best_params_"
     ],
     "language": "python",
     "metadata": {},
     "outputs": [
      {
       "metadata": {},
       "output_type": "pyout",
       "prompt_number": 39,
       "text": [
        "{'C': 100, 'gamma': 1e-05, 'kernel': 'poly'}"
       ]
      }
     ],
     "prompt_number": 39
    },
    {
     "cell_type": "code",
     "collapsed": false,
     "input": [
      "GS.best_score_"
     ],
     "language": "python",
     "metadata": {},
     "outputs": [
      {
       "metadata": {},
       "output_type": "pyout",
       "prompt_number": 40,
       "text": [
        "0.949438202247191"
       ]
      }
     ],
     "prompt_number": 40
    },
    {
     "cell_type": "code",
     "collapsed": false,
     "input": [],
     "language": "python",
     "metadata": {},
     "outputs": []
    }
   ],
   "metadata": {}
  }
 ]
}