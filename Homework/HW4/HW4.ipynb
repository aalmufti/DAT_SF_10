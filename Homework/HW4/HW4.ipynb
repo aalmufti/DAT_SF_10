{
 "metadata": {
  "name": "",
  "signature": "sha256:10fcf3cdac5bb7ce329155502229508c921fc427588682a91818c05975d36d3d"
 },
 "nbformat": 3,
 "nbformat_minor": 0,
 "worksheets": [
  {
   "cells": [
    {
     "cell_type": "code",
     "collapsed": false,
     "input": [
      "import numpy as np\n",
      "import pandas as pd\n",
      "import matplotlib.pyplot as plt\n",
      "%matplotlib inline\n",
      "\n",
      "from sklearn.decomposition import PCA\n"
     ],
     "language": "python",
     "metadata": {},
     "outputs": [],
     "prompt_number": 4
    },
    {
     "cell_type": "code",
     "collapsed": false,
     "input": [
      "#Load the data\n",
      "from sklearn.datasets import fetch_olivetti_faces\n",
      "faces = fetch_olivetti_faces()"
     ],
     "language": "python",
     "metadata": {},
     "outputs": [],
     "prompt_number": 5
    },
    {
     "cell_type": "code",
     "collapsed": false,
     "input": [
      "#Look at the data\n",
      "print(faces.DESCR)\n",
      "#print faces"
     ],
     "language": "python",
     "metadata": {},
     "outputs": [
      {
       "output_type": "stream",
       "stream": "stdout",
       "text": [
        "Modified Olivetti faces dataset.\n",
        "\n",
        "The original database was available from (now defunct)\n",
        "\n",
        "    http://www.uk.research.att.com/facedatabase.html\n",
        "\n",
        "The version retrieved here comes in MATLAB format from the personal\n",
        "web page of Sam Roweis:\n",
        "\n",
        "    http://www.cs.nyu.edu/~roweis/\n",
        "\n",
        "There are ten different images of each of 40 distinct subjects. For some\n",
        "subjects, the images were taken at different times, varying the lighting,\n",
        "facial expressions (open / closed eyes, smiling / not smiling) and facial\n",
        "details (glasses / no glasses). All the images were taken against a dark\n",
        "homogeneous background with the subjects in an upright, frontal position (with\n",
        "tolerance for some side movement).\n",
        "\n",
        "The original dataset consisted of 92 x 112, while the Roweis version\n",
        "consists of 64x64 images.\n",
        "\n"
       ]
      }
     ],
     "prompt_number": 6
    },
    {
     "cell_type": "code",
     "collapsed": false,
     "input": [
      "#Implement PCA\n",
      "X = faces.data\n",
      "y = faces.target\n",
      "pca = PCA(n_components=50)\n",
      "X_r = pca.fit(X).transform(X)"
     ],
     "language": "python",
     "metadata": {},
     "outputs": [],
     "prompt_number": 7
    },
    {
     "cell_type": "code",
     "collapsed": false,
     "input": [
      "#X_r"
     ],
     "language": "python",
     "metadata": {},
     "outputs": [],
     "prompt_number": 8
    },
    {
     "cell_type": "code",
     "collapsed": false,
     "input": [
      "# Percentage of variance explained (first two components):\n",
      "print \"First component: \" + str(pca.explained_variance_ratio_[0])\n",
      "print \"Second component: \" + str(pca.explained_variance_ratio_[1])\n",
      "print \"Third component: \" + str(pca.explained_variance_ratio_[2])\n",
      "print \"Fourth component: \" + str(pca.explained_variance_ratio_[3])\n",
      "print \"Fifth component: \" + str(pca.explained_variance_ratio_[4])\n",
      "print \"Sixth component: \" + str(pca.explained_variance_ratio_[5])\n",
      "print \"Seventh component: \" + str(pca.explained_variance_ratio_[6])\n",
      "print \"Eighth component: \" + str(pca.explained_variance_ratio_[7])\n",
      "print \"Ninth component: \" + str(pca.explained_variance_ratio_[8])\n",
      "print \"Tenth component: \" + str(pca.explained_variance_ratio_[9])"
     ],
     "language": "python",
     "metadata": {},
     "outputs": [
      {
       "output_type": "stream",
       "stream": "stdout",
       "text": [
        "First component: 0.238127\n",
        "Second component: 0.13994\n",
        "Third component: 0.0796862\n",
        "Fourth component: 0.0499833\n",
        "Fifth component: 0.0360985\n",
        "Sixth component: 0.0315693\n",
        "Seventh component: 0.0242683\n",
        "Eighth component: 0.020364\n",
        "Ninth component: 0.0195811\n",
        "Tenth component: 0.0167212\n"
       ]
      }
     ],
     "prompt_number": 9
    },
    {
     "cell_type": "code",
     "collapsed": false,
     "input": [
      "ratios = pca.explained_variance_ratio_\n",
      "print ratios"
     ],
     "language": "python",
     "metadata": {},
     "outputs": [
      {
       "output_type": "stream",
       "stream": "stdout",
       "text": [
        "[ 0.23812735  0.13993971  0.07968616  0.0499833   0.0360985   0.03156931\n",
        "  0.02426832  0.02036395  0.01958114  0.01672122  0.01595223  0.01436982\n",
        "  0.01246741  0.01147133  0.01062877  0.0097772   0.0091906   0.00815573\n",
        "  0.00753875  0.00746985  0.00698578  0.00614628  0.00583928  0.00569723\n",
        "  0.00546191  0.00531856  0.00513816  0.00495842  0.00457664  0.00441183\n",
        "  0.00402002  0.0038419   0.00361951  0.00334542  0.00320381  0.00316041\n",
        "  0.00305147  0.00298635  0.00282141  0.00274006  0.00259772  0.0025399\n",
        "  0.00244547  0.0023984   0.0023089   0.00226419  0.00222286  0.00220443\n",
        "  0.00208921  0.00204983]\n"
       ]
      }
     ],
     "prompt_number": 10
    },
    {
     "cell_type": "code",
     "collapsed": false,
     "input": [
      "comp_id = range(1,51)            # id number of component\n",
      "fig = plt.figure(figsize=(8,5))\n",
      "plt.plot(comp_id, ratios, 'ro-', linewidth=2)\n",
      "plt.title('Scree Plot')\n",
      "plt.xlabel('Principal Component')\n",
      "plt.ylabel('Eigenvalue')"
     ],
     "language": "python",
     "metadata": {},
     "outputs": [
      {
       "metadata": {},
       "output_type": "pyout",
       "prompt_number": 11,
       "text": [
        "<matplotlib.text.Text at 0x10ba17950>"
       ]
      },
      {
       "metadata": {},
       "output_type": "display_data",
       "png": "[encoded data removed]",
       "text": [
        "<matplotlib.figure.Figure at 0x10b9e8290>"
       ]
      }
     ],
     "prompt_number": 11
    },
    {
     "cell_type": "code",
     "collapsed": false,
     "input": [
      "from sklearn.decomposition import RandomizedPCA"
     ],
     "language": "python",
     "metadata": {},
     "outputs": [],
     "prompt_number": 12
    },
    {
     "cell_type": "code",
     "collapsed": false,
     "input": [
      "#Implement Randomized PCA\n",
      "X = faces.data\n",
      "y = faces.target\n",
      "Rpca = RandomizedPCA(n_components=50)\n",
      "X_r = RandomizedPCA.fit(X).transform(X)"
     ],
     "language": "python",
     "metadata": {},
     "outputs": [
      {
       "ename": "TypeError",
       "evalue": "unbound method fit() must be called with RandomizedPCA instance as first argument (got ndarray instance instead)",
       "output_type": "pyerr",
       "traceback": [
        "\u001b[0;31m---------------------------------------------------------------------------\u001b[0m\n\u001b[0;31mTypeError\u001b[0m                                 Traceback (most recent call last)",
        "\u001b[0;32m<ipython-input-13-803a0662a722>\u001b[0m in \u001b[0;36m<module>\u001b[0;34m()\u001b[0m\n\u001b[1;32m      3\u001b[0m \u001b[0my\u001b[0m \u001b[0;34m=\u001b[0m \u001b[0mfaces\u001b[0m\u001b[0;34m.\u001b[0m\u001b[0mtarget\u001b[0m\u001b[0;34m\u001b[0m\u001b[0m\n\u001b[1;32m      4\u001b[0m \u001b[0mRpca\u001b[0m \u001b[0;34m=\u001b[0m \u001b[0mRandomizedPCA\u001b[0m\u001b[0;34m(\u001b[0m\u001b[0mn_components\u001b[0m\u001b[0;34m=\u001b[0m\u001b[0;36m50\u001b[0m\u001b[0;34m)\u001b[0m\u001b[0;34m\u001b[0m\u001b[0m\n\u001b[0;32m----> 5\u001b[0;31m \u001b[0mX_r\u001b[0m \u001b[0;34m=\u001b[0m \u001b[0mRandomizedPCA\u001b[0m\u001b[0;34m.\u001b[0m\u001b[0mfit\u001b[0m\u001b[0;34m(\u001b[0m\u001b[0mX\u001b[0m\u001b[0;34m)\u001b[0m\u001b[0;34m.\u001b[0m\u001b[0mtransform\u001b[0m\u001b[0;34m(\u001b[0m\u001b[0mX\u001b[0m\u001b[0;34m)\u001b[0m\u001b[0;34m\u001b[0m\u001b[0m\n\u001b[0m",
        "\u001b[0;31mTypeError\u001b[0m: unbound method fit() must be called with RandomizedPCA instance as first argument (got ndarray instance instead)"
       ]
      }
     ],
     "prompt_number": 13
    },
    {
     "cell_type": "code",
     "collapsed": false,
     "input": [
      "RandomizedPCA."
     ],
     "language": "python",
     "metadata": {},
     "outputs": [
      {
       "ename": "SyntaxError",
       "evalue": "invalid syntax (<ipython-input-14-f655887bda64>, line 1)",
       "output_type": "pyerr",
       "traceback": [
        "\u001b[0;36m  File \u001b[0;32m\"<ipython-input-14-f655887bda64>\"\u001b[0;36m, line \u001b[0;32m1\u001b[0m\n\u001b[0;31m    RandomizedPCA.\u001b[0m\n\u001b[0m                  ^\u001b[0m\n\u001b[0;31mSyntaxError\u001b[0m\u001b[0;31m:\u001b[0m invalid syntax\n"
       ]
      }
     ],
     "prompt_number": 14
    },
    {
     "cell_type": "code",
     "collapsed": false,
     "input": [
      "#Implement K-Means\n",
      "from sklearn.cluster import KMeans"
     ],
     "language": "python",
     "metadata": {},
     "outputs": [],
     "prompt_number": 15
    },
    {
     "cell_type": "code",
     "collapsed": false,
     "input": [
      "km = KMeans(n_clusters=40,  init='random', n_init=10 , max_iter = 300, random_state=1)"
     ],
     "language": "python",
     "metadata": {},
     "outputs": [],
     "prompt_number": 16
    },
    {
     "cell_type": "code",
     "collapsed": false,
     "input": [
      "km.fit(X)"
     ],
     "language": "python",
     "metadata": {},
     "outputs": [
      {
       "metadata": {},
       "output_type": "pyout",
       "prompt_number": 17,
       "text": [
        "KMeans(copy_x=True, init='random', max_iter=300, n_clusters=40, n_init=10,\n",
        "    n_jobs=1, precompute_distances=True, random_state=1, tol=0.0001,\n",
        "    verbose=0)"
       ]
      }
     ],
     "prompt_number": 17
    },
    {
     "cell_type": "code",
     "collapsed": false,
     "input": [
      "from sklearn import metrics\n",
      "from sklearn.metrics import pairwise_distances\n",
      "silhouette = []\n",
      "\n",
      "for k in xrange(2,40):\n",
      "    km = KMeans(n_clusters=k, random_state=1)\n",
      "    km.fit(X)\n",
      "    labels = km.labels_\n",
      "    score = metrics.silhouette_score(X, labels, metric='euclidean')\n",
      "    silhouette.append(score)\n",
      "    \n"
     ],
     "language": "python",
     "metadata": {},
     "outputs": [],
     "prompt_number": 20
    },
    {
     "cell_type": "code",
     "collapsed": false,
     "input": [
      "silhouette"
     ],
     "language": "python",
     "metadata": {},
     "outputs": [
      {
       "metadata": {},
       "output_type": "pyout",
       "prompt_number": 21,
       "text": [
        "[0.15155827,\n",
        " 0.12575157,\n",
        " 0.10638564,\n",
        " 0.11034825,\n",
        " 0.10506062,\n",
        " 0.08900585,\n",
        " 0.09318307,\n",
        " 0.090898201,\n",
        " 0.094233453,\n",
        " 0.089441709,\n",
        " 0.098026447,\n",
        " 0.090082854,\n",
        " 0.090587661,\n",
        " 0.10014528,\n",
        " 0.10154016,\n",
        " 0.099709243,\n",
        " 0.095843859,\n",
        " 0.1102348,\n",
        " 0.10730886,\n",
        " 0.11419473,\n",
        " 0.11384837,\n",
        " 0.10827285,\n",
        " 0.11939542,\n",
        " 0.11588467,\n",
        " 0.1188457,\n",
        " 0.12854816,\n",
        " 0.12995917,\n",
        " 0.12817146,\n",
        " 0.12492033,\n",
        " 0.13046603,\n",
        " 0.13363548,\n",
        " 0.12724528,\n",
        " 0.13177101,\n",
        " 0.14305323,\n",
        " 0.13459437,\n",
        " 0.13996948,\n",
        " 0.14110188,\n",
        " 0.14817996]"
       ]
      }
     ],
     "prompt_number": 21
    },
    {
     "cell_type": "code",
     "collapsed": false,
     "input": [
      "c = [range(1,k), silhouette]"
     ],
     "language": "python",
     "metadata": {},
     "outputs": [],
     "prompt_number": 96
    },
    {
     "cell_type": "code",
     "collapsed": false,
     "input": [
      "c"
     ],
     "language": "python",
     "metadata": {},
     "outputs": [
      {
       "metadata": {},
       "output_type": "pyout",
       "prompt_number": 97,
       "text": [
        "[[1, 2, 3], [0.15155827, 0.12575157, 0.10638564]]"
       ]
      }
     ],
     "prompt_number": 97
    },
    {
     "cell_type": "code",
     "collapsed": false,
     "input": [
      "plt.scatter(c)"
     ],
     "language": "python",
     "metadata": {},
     "outputs": [
      {
       "ename": "TypeError",
       "evalue": "scatter() takes at least 2 arguments (1 given)",
       "output_type": "pyerr",
       "traceback": [
        "\u001b[0;31m---------------------------------------------------------------------------\u001b[0m\n\u001b[0;31mTypeError\u001b[0m                                 Traceback (most recent call last)",
        "\u001b[0;32m<ipython-input-100-b795830677c6>\u001b[0m in \u001b[0;36m<module>\u001b[0;34m()\u001b[0m\n\u001b[0;32m----> 1\u001b[0;31m \u001b[0mplt\u001b[0m\u001b[0;34m.\u001b[0m\u001b[0mscatter\u001b[0m\u001b[0;34m(\u001b[0m\u001b[0mc\u001b[0m\u001b[0;34m)\u001b[0m\u001b[0;34m\u001b[0m\u001b[0m\n\u001b[0m",
        "\u001b[0;31mTypeError\u001b[0m: scatter() takes at least 2 arguments (1 given)"
       ]
      }
     ],
     "prompt_number": 100
    },
    {
     "cell_type": "code",
     "collapsed": false,
     "input": [],
     "language": "python",
     "metadata": {},
     "outputs": []
    }
   ],
   "metadata": {}
  }
 ]
}