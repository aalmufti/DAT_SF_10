{
 "metadata": {
  "name": "",
  "signature": "sha256:c798232f865234518738db24962c6d296548783d39a674e5e2a5d690782c7ecb"
 },
 "nbformat": 3,
 "nbformat_minor": 0,
 "worksheets": [
  {
   "cells": [
    {
     "cell_type": "markdown",
     "metadata": {},
     "source": [
      "# GA Data Science (DAT10) - Lab 13\n",
      "## Decision Trees\n",
      "\n",
      "ref: [http://scikit-learn.org/stable/modules/generated/sklearn.tree.DecisionTreeClassifier.html](http://scikit-learn.org/stable/modules/generated/sklearn.tree.DecisionTreeClassifier.html)\n"
     ]
    },
    {
     "cell_type": "code",
     "collapsed": false,
     "input": [
      "import pandas as pd\n",
      "import numpy as np\n",
      "import pylab as pl\n",
      "\n",
      "pd.set_option('display.max_rows',100)\n",
      "pd.set_option('display.max_columns',60)"
     ],
     "language": "python",
     "metadata": {},
     "outputs": [],
     "prompt_number": 1
    },
    {
     "cell_type": "code",
     "collapsed": false,
     "input": [
      "from sklearn.cross_validation import KFold\n",
      "\n",
      "def cross_validate(X, y, classifier, k_fold) :\n",
      "\n",
      "    # derive a set of (random) training and testing indices\n",
      "    k_fold_indices = KFold(len(X), n_folds=k_fold,\n",
      "                           shuffle=True, random_state=0)\n",
      "\n",
      "    k_score_total = 0\n",
      "    # for each training and testing slices run the classifier, and score the results\n",
      "    for train_slice, test_slice in k_fold_indices :\n",
      "\n",
      "        model = classifier(X[ train_slice  ],\n",
      "                         y[ train_slice  ])\n",
      "\n",
      "        k_score = model.score(X[ test_slice ],\n",
      "                              y[ test_slice ])\n",
      "\n",
      "        k_score_total += k_score\n",
      "\n",
      "    # return the average accuracy\n",
      "    return k_score_total/k_fold"
     ],
     "language": "python",
     "metadata": {},
     "outputs": [],
     "prompt_number": 2
    },
    {
     "cell_type": "code",
     "collapsed": false,
     "input": [
      "# decision tree classifier (new!)\n",
      "from sklearn import tree"
     ],
     "language": "python",
     "metadata": {},
     "outputs": [],
     "prompt_number": 3
    },
    {
     "cell_type": "markdown",
     "metadata": {},
     "source": [
      "### Iris Dataset"
     ]
    },
    {
     "cell_type": "markdown",
     "metadata": {},
     "source": [
      "Load the iris dataset:"
     ]
    },
    {
     "cell_type": "code",
     "collapsed": false,
     "input": [
      "from sklearn.datasets import load_iris\n",
      "iris = load_iris()"
     ],
     "language": "python",
     "metadata": {},
     "outputs": [],
     "prompt_number": 4
    },
    {
     "cell_type": "markdown",
     "metadata": {},
     "source": [
      "Create a new pandas dataframe:"
     ]
    },
    {
     "cell_type": "code",
     "collapsed": false,
     "input": [
      "df = pd.DataFrame(iris.data, columns=iris.feature_names)\n",
      "df['species'] = iris.target\n",
      "df.head()"
     ],
     "language": "python",
     "metadata": {},
     "outputs": [
      {
       "html": [
        "<div style=\"max-height:1000px;max-width:1500px;overflow:auto;\">\n",
        "<table border=\"1\" class=\"dataframe\">\n",
        "  <thead>\n",
        "    <tr style=\"text-align: right;\">\n",
        "      <th></th>\n",
        "      <th>sepal length (cm)</th>\n",
        "      <th>sepal width (cm)</th>\n",
        "      <th>petal length (cm)</th>\n",
        "      <th>petal width (cm)</th>\n",
        "      <th>species</th>\n",
        "    </tr>\n",
        "  </thead>\n",
        "  <tbody>\n",
        "    <tr>\n",
        "      <th>0</th>\n",
        "      <td> 5.1</td>\n",
        "      <td> 3.5</td>\n",
        "      <td> 1.4</td>\n",
        "      <td> 0.2</td>\n",
        "      <td> 0</td>\n",
        "    </tr>\n",
        "    <tr>\n",
        "      <th>1</th>\n",
        "      <td> 4.9</td>\n",
        "      <td> 3.0</td>\n",
        "      <td> 1.4</td>\n",
        "      <td> 0.2</td>\n",
        "      <td> 0</td>\n",
        "    </tr>\n",
        "    <tr>\n",
        "      <th>2</th>\n",
        "      <td> 4.7</td>\n",
        "      <td> 3.2</td>\n",
        "      <td> 1.3</td>\n",
        "      <td> 0.2</td>\n",
        "      <td> 0</td>\n",
        "    </tr>\n",
        "    <tr>\n",
        "      <th>3</th>\n",
        "      <td> 4.6</td>\n",
        "      <td> 3.1</td>\n",
        "      <td> 1.5</td>\n",
        "      <td> 0.2</td>\n",
        "      <td> 0</td>\n",
        "    </tr>\n",
        "    <tr>\n",
        "      <th>4</th>\n",
        "      <td> 5.0</td>\n",
        "      <td> 3.6</td>\n",
        "      <td> 1.4</td>\n",
        "      <td> 0.2</td>\n",
        "      <td> 0</td>\n",
        "    </tr>\n",
        "  </tbody>\n",
        "</table>\n",
        "</div>"
       ],
       "metadata": {},
       "output_type": "pyout",
       "prompt_number": 5,
       "text": [
        "   sepal length (cm)  sepal width (cm)  petal length (cm)  petal width (cm)  \\\n",
        "0                5.1               3.5                1.4               0.2   \n",
        "1                4.9               3.0                1.4               0.2   \n",
        "2                4.7               3.2                1.3               0.2   \n",
        "3                4.6               3.1                1.5               0.2   \n",
        "4                5.0               3.6                1.4               0.2   \n",
        "\n",
        "   species  \n",
        "0        0  \n",
        "1        0  \n",
        "2        0  \n",
        "3        0  \n",
        "4        0  "
       ]
      }
     ],
     "prompt_number": 5
    },
    {
     "cell_type": "markdown",
     "metadata": {},
     "source": [
      "Create a new Decision Tree classifier using default parameters:"
     ]
    },
    {
     "cell_type": "code",
     "collapsed": false,
     "input": [
      "model = tree.DecisionTreeClassifier(random_state=0)"
     ],
     "language": "python",
     "metadata": {},
     "outputs": [],
     "prompt_number": 6
    },
    {
     "cell_type": "markdown",
     "metadata": {},
     "source": [
      "Fit the classifier with the iris data:"
     ]
    },
    {
     "cell_type": "code",
     "collapsed": false,
     "input": [
      "model.fit(df[iris.feature_names], df.species)"
     ],
     "language": "python",
     "metadata": {},
     "outputs": [
      {
       "metadata": {},
       "output_type": "pyout",
       "prompt_number": 7,
       "text": [
        "DecisionTreeClassifier(compute_importances=None, criterion='gini',\n",
        "            max_depth=None, max_features=None, min_density=None,\n",
        "            min_samples_leaf=1, min_samples_split=2, random_state=0,\n",
        "            splitter='best')"
       ]
      }
     ],
     "prompt_number": 7
    },
    {
     "cell_type": "markdown",
     "metadata": {},
     "source": [
      "Let's try graphing the tree:"
     ]
    },
    {
     "cell_type": "code",
     "collapsed": false,
     "input": [
      "# from sklearn.externals.six import StringIO\n",
      "with open(\"iris.dot\", 'w') as f:\n",
      "    f = tree.export_graphviz(model, out_file=f)"
     ],
     "language": "python",
     "metadata": {},
     "outputs": [],
     "prompt_number": 8
    },
    {
     "cell_type": "markdown",
     "metadata": {},
     "source": [
      "Generate a png from the .dot file (must have graphviz and pydot installed):"
     ]
    },
    {
     "cell_type": "code",
     "collapsed": false,
     "input": [
      "! dot -Tpng iris.dot -o iris.png"
     ],
     "language": "python",
     "metadata": {},
     "outputs": [],
     "prompt_number": 9
    },
    {
     "cell_type": "markdown",
     "metadata": {},
     "source": [
      "Show the image in our notebook:"
     ]
    },
    {
     "cell_type": "code",
     "collapsed": false,
     "input": [
      "from IPython.core.display import Image\n",
      "Image(\"iris.png\")"
     ],
     "language": "python",
     "metadata": {},
     "outputs": [
      {
       "metadata": {},
       "output_type": "pyout",
       "png": "[encoded data removed]",
       "prompt_number": 10,
       "text": [
        "<IPython.core.display.Image at 0x10785c7d0>"
       ]
      }
     ],
     "prompt_number": 10
    },
    {
     "cell_type": "markdown",
     "metadata": {},
     "source": [
      "Now predict the classes and check the crosstabs:"
     ]
    },
    {
     "cell_type": "code",
     "collapsed": false,
     "input": [
      "print model.predict(df[iris.feature_names])\n",
      "print df.species"
     ],
     "language": "python",
     "metadata": {},
     "outputs": [
      {
       "output_type": "stream",
       "stream": "stdout",
       "text": [
        "[0 0 0 0 0 0 0 0 0 0 0 0 0 0 0 0 0 0 0 0 0 0 0 0 0 0 0 0 0 0 0 0 0 0 0 0 0\n",
        " 0 0 0 0 0 0 0 0 0 0 0 0 0 1 1 1 1 1 1 1 1 1 1 1 1 1 1 1 1 1 1 1 1 1 1 1 1\n",
        " 1 1 1 1 1 1 1 1 1 1 1 1 1 1 1 1 1 1 1 1 1 1 1 1 1 1 2 2 2 2 2 2 2 2 2 2 2\n",
        " 2 2 2 2 2 2 2 2 2 2 2 2 2 2 2 2 2 2 2 2 2 2 2 2 2 2 2 2 2 2 2 2 2 2 2 2 2\n",
        " 2 2]\n",
        "0     0\n",
        "1     0\n",
        "2     0\n",
        "3     0\n",
        "4     0\n",
        "5     0\n",
        "6     0\n",
        "7     0\n",
        "8     0\n",
        "9     0\n",
        "10    0\n",
        "11    0\n",
        "12    0\n",
        "13    0\n",
        "14    0\n",
        "...\n",
        "135    2\n",
        "136    2\n",
        "137    2\n",
        "138    2\n",
        "139    2\n",
        "140    2\n",
        "141    2\n",
        "142    2\n",
        "143    2\n",
        "144    2\n",
        "145    2\n",
        "146    2\n",
        "147    2\n",
        "148    2\n",
        "149    2\n",
        "Name: species, Length: 150, dtype: int64\n"
       ]
      }
     ],
     "prompt_number": 11
    },
    {
     "cell_type": "code",
     "collapsed": false,
     "input": [
      "pd.crosstab(df.species, model.predict(df[iris.feature_names]))"
     ],
     "language": "python",
     "metadata": {},
     "outputs": [
      {
       "html": [
        "<div style=\"max-height:1000px;max-width:1500px;overflow:auto;\">\n",
        "<table border=\"1\" class=\"dataframe\">\n",
        "  <thead>\n",
        "    <tr style=\"text-align: right;\">\n",
        "      <th>col_0</th>\n",
        "      <th>0</th>\n",
        "      <th>1</th>\n",
        "      <th>2</th>\n",
        "    </tr>\n",
        "    <tr>\n",
        "      <th>species</th>\n",
        "      <th></th>\n",
        "      <th></th>\n",
        "      <th></th>\n",
        "    </tr>\n",
        "  </thead>\n",
        "  <tbody>\n",
        "    <tr>\n",
        "      <th>0</th>\n",
        "      <td> 50</td>\n",
        "      <td>  0</td>\n",
        "      <td>  0</td>\n",
        "    </tr>\n",
        "    <tr>\n",
        "      <th>1</th>\n",
        "      <td>  0</td>\n",
        "      <td> 50</td>\n",
        "      <td>  0</td>\n",
        "    </tr>\n",
        "    <tr>\n",
        "      <th>2</th>\n",
        "      <td>  0</td>\n",
        "      <td>  0</td>\n",
        "      <td> 50</td>\n",
        "    </tr>\n",
        "  </tbody>\n",
        "</table>\n",
        "</div>"
       ],
       "metadata": {},
       "output_type": "pyout",
       "prompt_number": 12,
       "text": [
        "col_0     0   1   2\n",
        "species            \n",
        "0        50   0   0\n",
        "1         0  50   0\n",
        "2         0   0  50"
       ]
      }
     ],
     "prompt_number": 12
    },
    {
     "cell_type": "markdown",
     "metadata": {},
     "source": [
      "Things are working, but it looks like our model is overfit, possibly due to one of these reasons:\n",
      "\n",
      "    a. The train and test datasets are the same! \n",
      "    b. We allowed a 'full' decision tree to be built.\n",
      "\n",
      "Let's run the classifier with cross-validation:"
     ]
    },
    {
     "cell_type": "code",
     "collapsed": false,
     "input": [
      "model = tree.DecisionTreeClassifier(random_state=0).fit\n",
      "cross_validate(iris.data, iris.target,model,10)"
     ],
     "language": "python",
     "metadata": {},
     "outputs": [
      {
       "metadata": {},
       "output_type": "pyout",
       "prompt_number": 13,
       "text": [
        "0.95333333333333337"
       ]
      }
     ],
     "prompt_number": 13
    },
    {
     "cell_type": "markdown",
     "metadata": {},
     "source": [
      "The mean of 95% is pretty good - looks like we can train a pretty good DecisionTree classifier with this data.  Is it possible we're still overfitting due to `b`?\n",
      "\n",
      "Let's look at another Decision Tree built with just a part of the data:"
     ]
    },
    {
     "cell_type": "code",
     "collapsed": false,
     "input": [
      "from sklearn.cross_validation import train_test_split\n",
      "\n",
      "X_train, X_test, y_train, y_test = train_test_split(iris.data, iris.target, test_size=0.4, random_state=0)\n",
      "model = tree.DecisionTreeClassifier(random_state=0)\n",
      "model.fit(X_train, y_train)"
     ],
     "language": "python",
     "metadata": {},
     "outputs": [
      {
       "metadata": {},
       "output_type": "pyout",
       "prompt_number": 14,
       "text": [
        "DecisionTreeClassifier(compute_importances=None, criterion='gini',\n",
        "            max_depth=None, max_features=None, min_density=None,\n",
        "            min_samples_leaf=1, min_samples_split=2, random_state=0,\n",
        "            splitter='best')"
       ]
      }
     ],
     "prompt_number": 14
    },
    {
     "cell_type": "markdown",
     "metadata": {},
     "source": [
      "Let's predict classes for our test set using this simplified tree."
     ]
    },
    {
     "cell_type": "code",
     "collapsed": false,
     "input": [
      "with open(\"iris1.dot\", 'w') as f:\n",
      "    f = tree.export_graphviz(model, out_file=f)\n",
      "! dot -Tpng iris1.dot -o iris1.png\n",
      "Image(\"iris1.png\")"
     ],
     "language": "python",
     "metadata": {},
     "outputs": [
      {
       "metadata": {},
       "output_type": "pyout",
       "png": "[encoded data removed]",
       "prompt_number": 15,
       "text": [
        "<IPython.core.display.Image at 0x10418c110>"
       ]
      }
     ],
     "prompt_number": 15
    },
    {
     "cell_type": "markdown",
     "metadata": {},
     "source": [
      "This tree is much simpler than the original tree based on all the data."
     ]
    },
    {
     "cell_type": "code",
     "collapsed": false,
     "input": [
      "results = model.predict(X_test)\n",
      "pd.crosstab(y_test, results)"
     ],
     "language": "python",
     "metadata": {},
     "outputs": [
      {
       "html": [
        "<div style=\"max-height:1000px;max-width:1500px;overflow:auto;\">\n",
        "<table border=\"1\" class=\"dataframe\">\n",
        "  <thead>\n",
        "    <tr style=\"text-align: right;\">\n",
        "      <th>col_0</th>\n",
        "      <th>0</th>\n",
        "      <th>1</th>\n",
        "      <th>2</th>\n",
        "    </tr>\n",
        "    <tr>\n",
        "      <th>row_0</th>\n",
        "      <th></th>\n",
        "      <th></th>\n",
        "      <th></th>\n",
        "    </tr>\n",
        "  </thead>\n",
        "  <tbody>\n",
        "    <tr>\n",
        "      <th>0</th>\n",
        "      <td> 16</td>\n",
        "      <td>  0</td>\n",
        "      <td>  0</td>\n",
        "    </tr>\n",
        "    <tr>\n",
        "      <th>1</th>\n",
        "      <td>  0</td>\n",
        "      <td> 22</td>\n",
        "      <td>  1</td>\n",
        "    </tr>\n",
        "    <tr>\n",
        "      <th>2</th>\n",
        "      <td>  0</td>\n",
        "      <td>  2</td>\n",
        "      <td> 19</td>\n",
        "    </tr>\n",
        "  </tbody>\n",
        "</table>\n",
        "</div>"
       ],
       "metadata": {},
       "output_type": "pyout",
       "prompt_number": 16,
       "text": [
        "col_0   0   1   2\n",
        "row_0            \n",
        "0      16   0   0\n",
        "1       0  22   1\n",
        "2       0   2  19"
       ]
      }
     ],
     "prompt_number": 16
    },
    {
     "cell_type": "code",
     "collapsed": false,
     "input": [
      "# create new dataframes with features, species, results\n",
      "df_features = pd.DataFrame(X_test, columns=iris.feature_names)\n",
      "df_species = pd.DataFrame(y_test, columns=['species (actual)'])\n",
      "df_results = pd.DataFrame(results, columns=['species (predicted)'])\n",
      "\n",
      "# join the features, actual, and predicted into one dataframe\n",
      "df = df_features.join(df_species).join(df_results) \n",
      "df"
     ],
     "language": "python",
     "metadata": {},
     "outputs": [
      {
       "html": [
        "<div style=\"max-height:1000px;max-width:1500px;overflow:auto;\">\n",
        "<table border=\"1\" class=\"dataframe\">\n",
        "  <thead>\n",
        "    <tr style=\"text-align: right;\">\n",
        "      <th></th>\n",
        "      <th>sepal length (cm)</th>\n",
        "      <th>sepal width (cm)</th>\n",
        "      <th>petal length (cm)</th>\n",
        "      <th>petal width (cm)</th>\n",
        "      <th>species (actual)</th>\n",
        "      <th>species (predicted)</th>\n",
        "    </tr>\n",
        "  </thead>\n",
        "  <tbody>\n",
        "    <tr>\n",
        "      <th>0 </th>\n",
        "      <td> 5.8</td>\n",
        "      <td> 2.8</td>\n",
        "      <td> 5.1</td>\n",
        "      <td> 2.4</td>\n",
        "      <td> 2</td>\n",
        "      <td> 2</td>\n",
        "    </tr>\n",
        "    <tr>\n",
        "      <th>1 </th>\n",
        "      <td> 6.0</td>\n",
        "      <td> 2.2</td>\n",
        "      <td> 4.0</td>\n",
        "      <td> 1.0</td>\n",
        "      <td> 1</td>\n",
        "      <td> 1</td>\n",
        "    </tr>\n",
        "    <tr>\n",
        "      <th>2 </th>\n",
        "      <td> 5.5</td>\n",
        "      <td> 4.2</td>\n",
        "      <td> 1.4</td>\n",
        "      <td> 0.2</td>\n",
        "      <td> 0</td>\n",
        "      <td> 0</td>\n",
        "    </tr>\n",
        "    <tr>\n",
        "      <th>3 </th>\n",
        "      <td> 7.3</td>\n",
        "      <td> 2.9</td>\n",
        "      <td> 6.3</td>\n",
        "      <td> 1.8</td>\n",
        "      <td> 2</td>\n",
        "      <td> 2</td>\n",
        "    </tr>\n",
        "    <tr>\n",
        "      <th>4 </th>\n",
        "      <td> 5.0</td>\n",
        "      <td> 3.4</td>\n",
        "      <td> 1.5</td>\n",
        "      <td> 0.2</td>\n",
        "      <td> 0</td>\n",
        "      <td> 0</td>\n",
        "    </tr>\n",
        "    <tr>\n",
        "      <th>5 </th>\n",
        "      <td> 6.3</td>\n",
        "      <td> 3.3</td>\n",
        "      <td> 6.0</td>\n",
        "      <td> 2.5</td>\n",
        "      <td> 2</td>\n",
        "      <td> 2</td>\n",
        "    </tr>\n",
        "    <tr>\n",
        "      <th>6 </th>\n",
        "      <td> 5.0</td>\n",
        "      <td> 3.5</td>\n",
        "      <td> 1.3</td>\n",
        "      <td> 0.3</td>\n",
        "      <td> 0</td>\n",
        "      <td> 0</td>\n",
        "    </tr>\n",
        "    <tr>\n",
        "      <th>7 </th>\n",
        "      <td> 6.7</td>\n",
        "      <td> 3.1</td>\n",
        "      <td> 4.7</td>\n",
        "      <td> 1.5</td>\n",
        "      <td> 1</td>\n",
        "      <td> 1</td>\n",
        "    </tr>\n",
        "    <tr>\n",
        "      <th>8 </th>\n",
        "      <td> 6.8</td>\n",
        "      <td> 2.8</td>\n",
        "      <td> 4.8</td>\n",
        "      <td> 1.4</td>\n",
        "      <td> 1</td>\n",
        "      <td> 1</td>\n",
        "    </tr>\n",
        "    <tr>\n",
        "      <th>9 </th>\n",
        "      <td> 6.1</td>\n",
        "      <td> 2.8</td>\n",
        "      <td> 4.0</td>\n",
        "      <td> 1.3</td>\n",
        "      <td> 1</td>\n",
        "      <td> 1</td>\n",
        "    </tr>\n",
        "    <tr>\n",
        "      <th>10</th>\n",
        "      <td> 6.1</td>\n",
        "      <td> 2.6</td>\n",
        "      <td> 5.6</td>\n",
        "      <td> 1.4</td>\n",
        "      <td> 2</td>\n",
        "      <td> 2</td>\n",
        "    </tr>\n",
        "    <tr>\n",
        "      <th>11</th>\n",
        "      <td> 6.4</td>\n",
        "      <td> 3.2</td>\n",
        "      <td> 4.5</td>\n",
        "      <td> 1.5</td>\n",
        "      <td> 1</td>\n",
        "      <td> 1</td>\n",
        "    </tr>\n",
        "    <tr>\n",
        "      <th>12</th>\n",
        "      <td> 6.1</td>\n",
        "      <td> 2.8</td>\n",
        "      <td> 4.7</td>\n",
        "      <td> 1.2</td>\n",
        "      <td> 1</td>\n",
        "      <td> 1</td>\n",
        "    </tr>\n",
        "    <tr>\n",
        "      <th>13</th>\n",
        "      <td> 6.5</td>\n",
        "      <td> 2.8</td>\n",
        "      <td> 4.6</td>\n",
        "      <td> 1.5</td>\n",
        "      <td> 1</td>\n",
        "      <td> 1</td>\n",
        "    </tr>\n",
        "    <tr>\n",
        "      <th>14</th>\n",
        "      <td> 6.1</td>\n",
        "      <td> 2.9</td>\n",
        "      <td> 4.7</td>\n",
        "      <td> 1.4</td>\n",
        "      <td> 1</td>\n",
        "      <td> 1</td>\n",
        "    </tr>\n",
        "    <tr>\n",
        "      <th>15</th>\n",
        "      <td> 4.9</td>\n",
        "      <td> 3.1</td>\n",
        "      <td> 1.5</td>\n",
        "      <td> 0.1</td>\n",
        "      <td> 0</td>\n",
        "      <td> 0</td>\n",
        "    </tr>\n",
        "    <tr>\n",
        "      <th>16</th>\n",
        "      <td> 6.0</td>\n",
        "      <td> 2.9</td>\n",
        "      <td> 4.5</td>\n",
        "      <td> 1.5</td>\n",
        "      <td> 1</td>\n",
        "      <td> 1</td>\n",
        "    </tr>\n",
        "    <tr>\n",
        "      <th>17</th>\n",
        "      <td> 5.5</td>\n",
        "      <td> 2.6</td>\n",
        "      <td> 4.4</td>\n",
        "      <td> 1.2</td>\n",
        "      <td> 1</td>\n",
        "      <td> 1</td>\n",
        "    </tr>\n",
        "    <tr>\n",
        "      <th>18</th>\n",
        "      <td> 4.8</td>\n",
        "      <td> 3.0</td>\n",
        "      <td> 1.4</td>\n",
        "      <td> 0.3</td>\n",
        "      <td> 0</td>\n",
        "      <td> 0</td>\n",
        "    </tr>\n",
        "    <tr>\n",
        "      <th>19</th>\n",
        "      <td> 5.4</td>\n",
        "      <td> 3.9</td>\n",
        "      <td> 1.3</td>\n",
        "      <td> 0.4</td>\n",
        "      <td> 0</td>\n",
        "      <td> 0</td>\n",
        "    </tr>\n",
        "    <tr>\n",
        "      <th>20</th>\n",
        "      <td> 5.6</td>\n",
        "      <td> 2.8</td>\n",
        "      <td> 4.9</td>\n",
        "      <td> 2.0</td>\n",
        "      <td> 2</td>\n",
        "      <td> 2</td>\n",
        "    </tr>\n",
        "    <tr>\n",
        "      <th>21</th>\n",
        "      <td> 5.6</td>\n",
        "      <td> 3.0</td>\n",
        "      <td> 4.5</td>\n",
        "      <td> 1.5</td>\n",
        "      <td> 1</td>\n",
        "      <td> 1</td>\n",
        "    </tr>\n",
        "    <tr>\n",
        "      <th>22</th>\n",
        "      <td> 4.8</td>\n",
        "      <td> 3.4</td>\n",
        "      <td> 1.9</td>\n",
        "      <td> 0.2</td>\n",
        "      <td> 0</td>\n",
        "      <td> 0</td>\n",
        "    </tr>\n",
        "    <tr>\n",
        "      <th>23</th>\n",
        "      <td> 4.4</td>\n",
        "      <td> 2.9</td>\n",
        "      <td> 1.4</td>\n",
        "      <td> 0.2</td>\n",
        "      <td> 0</td>\n",
        "      <td> 0</td>\n",
        "    </tr>\n",
        "    <tr>\n",
        "      <th>24</th>\n",
        "      <td> 6.2</td>\n",
        "      <td> 2.8</td>\n",
        "      <td> 4.8</td>\n",
        "      <td> 1.8</td>\n",
        "      <td> 2</td>\n",
        "      <td> 2</td>\n",
        "    </tr>\n",
        "    <tr>\n",
        "      <th>25</th>\n",
        "      <td> 4.6</td>\n",
        "      <td> 3.6</td>\n",
        "      <td> 1.0</td>\n",
        "      <td> 0.2</td>\n",
        "      <td> 0</td>\n",
        "      <td> 0</td>\n",
        "    </tr>\n",
        "    <tr>\n",
        "      <th>26</th>\n",
        "      <td> 5.1</td>\n",
        "      <td> 3.8</td>\n",
        "      <td> 1.9</td>\n",
        "      <td> 0.4</td>\n",
        "      <td> 0</td>\n",
        "      <td> 0</td>\n",
        "    </tr>\n",
        "    <tr>\n",
        "      <th>27</th>\n",
        "      <td> 6.2</td>\n",
        "      <td> 2.9</td>\n",
        "      <td> 4.3</td>\n",
        "      <td> 1.3</td>\n",
        "      <td> 1</td>\n",
        "      <td> 1</td>\n",
        "    </tr>\n",
        "    <tr>\n",
        "      <th>28</th>\n",
        "      <td> 5.0</td>\n",
        "      <td> 2.3</td>\n",
        "      <td> 3.3</td>\n",
        "      <td> 1.0</td>\n",
        "      <td> 1</td>\n",
        "      <td> 1</td>\n",
        "    </tr>\n",
        "    <tr>\n",
        "      <th>29</th>\n",
        "      <td> 5.0</td>\n",
        "      <td> 3.4</td>\n",
        "      <td> 1.6</td>\n",
        "      <td> 0.4</td>\n",
        "      <td> 0</td>\n",
        "      <td> 0</td>\n",
        "    </tr>\n",
        "    <tr>\n",
        "      <th>30</th>\n",
        "      <td> 6.4</td>\n",
        "      <td> 3.1</td>\n",
        "      <td> 5.5</td>\n",
        "      <td> 1.8</td>\n",
        "      <td> 2</td>\n",
        "      <td> 2</td>\n",
        "    </tr>\n",
        "    <tr>\n",
        "      <th>31</th>\n",
        "      <td> 5.4</td>\n",
        "      <td> 3.0</td>\n",
        "      <td> 4.5</td>\n",
        "      <td> 1.5</td>\n",
        "      <td> 1</td>\n",
        "      <td> 1</td>\n",
        "    </tr>\n",
        "    <tr>\n",
        "      <th>32</th>\n",
        "      <td> 5.2</td>\n",
        "      <td> 3.5</td>\n",
        "      <td> 1.5</td>\n",
        "      <td> 0.2</td>\n",
        "      <td> 0</td>\n",
        "      <td> 0</td>\n",
        "    </tr>\n",
        "    <tr>\n",
        "      <th>33</th>\n",
        "      <td> 6.1</td>\n",
        "      <td> 3.0</td>\n",
        "      <td> 4.9</td>\n",
        "      <td> 1.8</td>\n",
        "      <td> 2</td>\n",
        "      <td> 2</td>\n",
        "    </tr>\n",
        "    <tr>\n",
        "      <th>34</th>\n",
        "      <td> 6.4</td>\n",
        "      <td> 2.8</td>\n",
        "      <td> 5.6</td>\n",
        "      <td> 2.2</td>\n",
        "      <td> 2</td>\n",
        "      <td> 2</td>\n",
        "    </tr>\n",
        "    <tr>\n",
        "      <th>35</th>\n",
        "      <td> 5.2</td>\n",
        "      <td> 2.7</td>\n",
        "      <td> 3.9</td>\n",
        "      <td> 1.4</td>\n",
        "      <td> 1</td>\n",
        "      <td> 1</td>\n",
        "    </tr>\n",
        "    <tr>\n",
        "      <th>36</th>\n",
        "      <td> 5.7</td>\n",
        "      <td> 3.8</td>\n",
        "      <td> 1.7</td>\n",
        "      <td> 0.3</td>\n",
        "      <td> 0</td>\n",
        "      <td> 0</td>\n",
        "    </tr>\n",
        "    <tr>\n",
        "      <th>37</th>\n",
        "      <td> 6.0</td>\n",
        "      <td> 2.7</td>\n",
        "      <td> 5.1</td>\n",
        "      <td> 1.6</td>\n",
        "      <td> 1</td>\n",
        "      <td> 2</td>\n",
        "    </tr>\n",
        "    <tr>\n",
        "      <th>38</th>\n",
        "      <td> 5.9</td>\n",
        "      <td> 3.0</td>\n",
        "      <td> 4.2</td>\n",
        "      <td> 1.5</td>\n",
        "      <td> 1</td>\n",
        "      <td> 1</td>\n",
        "    </tr>\n",
        "    <tr>\n",
        "      <th>39</th>\n",
        "      <td> 5.8</td>\n",
        "      <td> 2.6</td>\n",
        "      <td> 4.0</td>\n",
        "      <td> 1.2</td>\n",
        "      <td> 1</td>\n",
        "      <td> 1</td>\n",
        "    </tr>\n",
        "    <tr>\n",
        "      <th>40</th>\n",
        "      <td> 6.8</td>\n",
        "      <td> 3.0</td>\n",
        "      <td> 5.5</td>\n",
        "      <td> 2.1</td>\n",
        "      <td> 2</td>\n",
        "      <td> 2</td>\n",
        "    </tr>\n",
        "    <tr>\n",
        "      <th>41</th>\n",
        "      <td> 4.7</td>\n",
        "      <td> 3.2</td>\n",
        "      <td> 1.3</td>\n",
        "      <td> 0.2</td>\n",
        "      <td> 0</td>\n",
        "      <td> 0</td>\n",
        "    </tr>\n",
        "    <tr>\n",
        "      <th>42</th>\n",
        "      <td> 6.9</td>\n",
        "      <td> 3.1</td>\n",
        "      <td> 5.1</td>\n",
        "      <td> 2.3</td>\n",
        "      <td> 2</td>\n",
        "      <td> 2</td>\n",
        "    </tr>\n",
        "    <tr>\n",
        "      <th>43</th>\n",
        "      <td> 5.0</td>\n",
        "      <td> 3.5</td>\n",
        "      <td> 1.6</td>\n",
        "      <td> 0.6</td>\n",
        "      <td> 0</td>\n",
        "      <td> 0</td>\n",
        "    </tr>\n",
        "    <tr>\n",
        "      <th>44</th>\n",
        "      <td> 5.4</td>\n",
        "      <td> 3.7</td>\n",
        "      <td> 1.5</td>\n",
        "      <td> 0.2</td>\n",
        "      <td> 0</td>\n",
        "      <td> 0</td>\n",
        "    </tr>\n",
        "    <tr>\n",
        "      <th>45</th>\n",
        "      <td> 5.0</td>\n",
        "      <td> 2.0</td>\n",
        "      <td> 3.5</td>\n",
        "      <td> 1.0</td>\n",
        "      <td> 1</td>\n",
        "      <td> 1</td>\n",
        "    </tr>\n",
        "    <tr>\n",
        "      <th>46</th>\n",
        "      <td> 6.5</td>\n",
        "      <td> 3.0</td>\n",
        "      <td> 5.5</td>\n",
        "      <td> 1.8</td>\n",
        "      <td> 2</td>\n",
        "      <td> 2</td>\n",
        "    </tr>\n",
        "    <tr>\n",
        "      <th>47</th>\n",
        "      <td> 6.7</td>\n",
        "      <td> 3.3</td>\n",
        "      <td> 5.7</td>\n",
        "      <td> 2.5</td>\n",
        "      <td> 2</td>\n",
        "      <td> 2</td>\n",
        "    </tr>\n",
        "    <tr>\n",
        "      <th>48</th>\n",
        "      <td> 6.0</td>\n",
        "      <td> 2.2</td>\n",
        "      <td> 5.0</td>\n",
        "      <td> 1.5</td>\n",
        "      <td> 2</td>\n",
        "      <td> 1</td>\n",
        "    </tr>\n",
        "    <tr>\n",
        "      <th>49</th>\n",
        "      <td> 6.7</td>\n",
        "      <td> 2.5</td>\n",
        "      <td> 5.8</td>\n",
        "      <td> 1.8</td>\n",
        "      <td> 2</td>\n",
        "      <td> 2</td>\n",
        "    </tr>\n",
        "    <tr>\n",
        "      <th>50</th>\n",
        "      <td> 5.6</td>\n",
        "      <td> 2.5</td>\n",
        "      <td> 3.9</td>\n",
        "      <td> 1.1</td>\n",
        "      <td> 1</td>\n",
        "      <td> 1</td>\n",
        "    </tr>\n",
        "    <tr>\n",
        "      <th>51</th>\n",
        "      <td> 7.7</td>\n",
        "      <td> 3.0</td>\n",
        "      <td> 6.1</td>\n",
        "      <td> 2.3</td>\n",
        "      <td> 2</td>\n",
        "      <td> 2</td>\n",
        "    </tr>\n",
        "    <tr>\n",
        "      <th>52</th>\n",
        "      <td> 6.3</td>\n",
        "      <td> 3.3</td>\n",
        "      <td> 4.7</td>\n",
        "      <td> 1.6</td>\n",
        "      <td> 1</td>\n",
        "      <td> 1</td>\n",
        "    </tr>\n",
        "    <tr>\n",
        "      <th>53</th>\n",
        "      <td> 5.5</td>\n",
        "      <td> 2.4</td>\n",
        "      <td> 3.8</td>\n",
        "      <td> 1.1</td>\n",
        "      <td> 1</td>\n",
        "      <td> 1</td>\n",
        "    </tr>\n",
        "    <tr>\n",
        "      <th>54</th>\n",
        "      <td> 6.3</td>\n",
        "      <td> 2.7</td>\n",
        "      <td> 4.9</td>\n",
        "      <td> 1.8</td>\n",
        "      <td> 2</td>\n",
        "      <td> 2</td>\n",
        "    </tr>\n",
        "    <tr>\n",
        "      <th>55</th>\n",
        "      <td> 6.3</td>\n",
        "      <td> 2.8</td>\n",
        "      <td> 5.1</td>\n",
        "      <td> 1.5</td>\n",
        "      <td> 2</td>\n",
        "      <td> 2</td>\n",
        "    </tr>\n",
        "    <tr>\n",
        "      <th>56</th>\n",
        "      <td> 4.9</td>\n",
        "      <td> 2.5</td>\n",
        "      <td> 4.5</td>\n",
        "      <td> 1.7</td>\n",
        "      <td> 2</td>\n",
        "      <td> 1</td>\n",
        "    </tr>\n",
        "    <tr>\n",
        "      <th>57</th>\n",
        "      <td> 6.3</td>\n",
        "      <td> 2.5</td>\n",
        "      <td> 5.0</td>\n",
        "      <td> 1.9</td>\n",
        "      <td> 2</td>\n",
        "      <td> 2</td>\n",
        "    </tr>\n",
        "    <tr>\n",
        "      <th>58</th>\n",
        "      <td> 7.0</td>\n",
        "      <td> 3.2</td>\n",
        "      <td> 4.7</td>\n",
        "      <td> 1.4</td>\n",
        "      <td> 1</td>\n",
        "      <td> 1</td>\n",
        "    </tr>\n",
        "    <tr>\n",
        "      <th>59</th>\n",
        "      <td> 6.5</td>\n",
        "      <td> 3.0</td>\n",
        "      <td> 5.2</td>\n",
        "      <td> 2.0</td>\n",
        "      <td> 2</td>\n",
        "      <td> 2</td>\n",
        "    </tr>\n",
        "  </tbody>\n",
        "</table>\n",
        "</div>"
       ],
       "metadata": {},
       "output_type": "pyout",
       "prompt_number": 17,
       "text": [
        "    sepal length (cm)  sepal width (cm)  petal length (cm)  petal width (cm)  \\\n",
        "0                 5.8               2.8                5.1               2.4   \n",
        "1                 6.0               2.2                4.0               1.0   \n",
        "2                 5.5               4.2                1.4               0.2   \n",
        "3                 7.3               2.9                6.3               1.8   \n",
        "4                 5.0               3.4                1.5               0.2   \n",
        "5                 6.3               3.3                6.0               2.5   \n",
        "6                 5.0               3.5                1.3               0.3   \n",
        "7                 6.7               3.1                4.7               1.5   \n",
        "8                 6.8               2.8                4.8               1.4   \n",
        "9                 6.1               2.8                4.0               1.3   \n",
        "10                6.1               2.6                5.6               1.4   \n",
        "11                6.4               3.2                4.5               1.5   \n",
        "12                6.1               2.8                4.7               1.2   \n",
        "13                6.5               2.8                4.6               1.5   \n",
        "14                6.1               2.9                4.7               1.4   \n",
        "15                4.9               3.1                1.5               0.1   \n",
        "16                6.0               2.9                4.5               1.5   \n",
        "17                5.5               2.6                4.4               1.2   \n",
        "18                4.8               3.0                1.4               0.3   \n",
        "19                5.4               3.9                1.3               0.4   \n",
        "20                5.6               2.8                4.9               2.0   \n",
        "21                5.6               3.0                4.5               1.5   \n",
        "22                4.8               3.4                1.9               0.2   \n",
        "23                4.4               2.9                1.4               0.2   \n",
        "24                6.2               2.8                4.8               1.8   \n",
        "25                4.6               3.6                1.0               0.2   \n",
        "26                5.1               3.8                1.9               0.4   \n",
        "27                6.2               2.9                4.3               1.3   \n",
        "28                5.0               2.3                3.3               1.0   \n",
        "29                5.0               3.4                1.6               0.4   \n",
        "30                6.4               3.1                5.5               1.8   \n",
        "31                5.4               3.0                4.5               1.5   \n",
        "32                5.2               3.5                1.5               0.2   \n",
        "33                6.1               3.0                4.9               1.8   \n",
        "34                6.4               2.8                5.6               2.2   \n",
        "35                5.2               2.7                3.9               1.4   \n",
        "36                5.7               3.8                1.7               0.3   \n",
        "37                6.0               2.7                5.1               1.6   \n",
        "38                5.9               3.0                4.2               1.5   \n",
        "39                5.8               2.6                4.0               1.2   \n",
        "40                6.8               3.0                5.5               2.1   \n",
        "41                4.7               3.2                1.3               0.2   \n",
        "42                6.9               3.1                5.1               2.3   \n",
        "43                5.0               3.5                1.6               0.6   \n",
        "44                5.4               3.7                1.5               0.2   \n",
        "45                5.0               2.0                3.5               1.0   \n",
        "46                6.5               3.0                5.5               1.8   \n",
        "47                6.7               3.3                5.7               2.5   \n",
        "48                6.0               2.2                5.0               1.5   \n",
        "49                6.7               2.5                5.8               1.8   \n",
        "50                5.6               2.5                3.9               1.1   \n",
        "51                7.7               3.0                6.1               2.3   \n",
        "52                6.3               3.3                4.7               1.6   \n",
        "53                5.5               2.4                3.8               1.1   \n",
        "54                6.3               2.7                4.9               1.8   \n",
        "55                6.3               2.8                5.1               1.5   \n",
        "56                4.9               2.5                4.5               1.7   \n",
        "57                6.3               2.5                5.0               1.9   \n",
        "58                7.0               3.2                4.7               1.4   \n",
        "59                6.5               3.0                5.2               2.0   \n",
        "\n",
        "    species (actual)  species (predicted)  \n",
        "0                  2                    2  \n",
        "1                  1                    1  \n",
        "2                  0                    0  \n",
        "3                  2                    2  \n",
        "4                  0                    0  \n",
        "5                  2                    2  \n",
        "6                  0                    0  \n",
        "7                  1                    1  \n",
        "8                  1                    1  \n",
        "9                  1                    1  \n",
        "10                 2                    2  \n",
        "11                 1                    1  \n",
        "12                 1                    1  \n",
        "13                 1                    1  \n",
        "14                 1                    1  \n",
        "15                 0                    0  \n",
        "16                 1                    1  \n",
        "17                 1                    1  \n",
        "18                 0                    0  \n",
        "19                 0                    0  \n",
        "20                 2                    2  \n",
        "21                 1                    1  \n",
        "22                 0                    0  \n",
        "23                 0                    0  \n",
        "24                 2                    2  \n",
        "25                 0                    0  \n",
        "26                 0                    0  \n",
        "27                 1                    1  \n",
        "28                 1                    1  \n",
        "29                 0                    0  \n",
        "30                 2                    2  \n",
        "31                 1                    1  \n",
        "32                 0                    0  \n",
        "33                 2                    2  \n",
        "34                 2                    2  \n",
        "35                 1                    1  \n",
        "36                 0                    0  \n",
        "37                 1                    2  \n",
        "38                 1                    1  \n",
        "39                 1                    1  \n",
        "40                 2                    2  \n",
        "41                 0                    0  \n",
        "42                 2                    2  \n",
        "43                 0                    0  \n",
        "44                 0                    0  \n",
        "45                 1                    1  \n",
        "46                 2                    2  \n",
        "47                 2                    2  \n",
        "48                 2                    1  \n",
        "49                 2                    2  \n",
        "50                 1                    1  \n",
        "51                 2                    2  \n",
        "52                 1                    1  \n",
        "53                 1                    1  \n",
        "54                 2                    2  \n",
        "55                 2                    2  \n",
        "56                 2                    1  \n",
        "57                 2                    2  \n",
        "58                 1                    1  \n",
        "59                 2                    2  "
       ]
      }
     ],
     "prompt_number": 17
    },
    {
     "cell_type": "code",
     "collapsed": false,
     "input": [
      "# extract the records where the predictions were incorrect\n",
      "df_errors = df[(df['species (actual)'] != df['species (predicted)'])]\n",
      "df_errors"
     ],
     "language": "python",
     "metadata": {},
     "outputs": [
      {
       "html": [
        "<div style=\"max-height:1000px;max-width:1500px;overflow:auto;\">\n",
        "<table border=\"1\" class=\"dataframe\">\n",
        "  <thead>\n",
        "    <tr style=\"text-align: right;\">\n",
        "      <th></th>\n",
        "      <th>sepal length (cm)</th>\n",
        "      <th>sepal width (cm)</th>\n",
        "      <th>petal length (cm)</th>\n",
        "      <th>petal width (cm)</th>\n",
        "      <th>species (actual)</th>\n",
        "      <th>species (predicted)</th>\n",
        "    </tr>\n",
        "  </thead>\n",
        "  <tbody>\n",
        "    <tr>\n",
        "      <th>37</th>\n",
        "      <td> 6.0</td>\n",
        "      <td> 2.7</td>\n",
        "      <td> 5.1</td>\n",
        "      <td> 1.6</td>\n",
        "      <td> 1</td>\n",
        "      <td> 2</td>\n",
        "    </tr>\n",
        "    <tr>\n",
        "      <th>48</th>\n",
        "      <td> 6.0</td>\n",
        "      <td> 2.2</td>\n",
        "      <td> 5.0</td>\n",
        "      <td> 1.5</td>\n",
        "      <td> 2</td>\n",
        "      <td> 1</td>\n",
        "    </tr>\n",
        "    <tr>\n",
        "      <th>56</th>\n",
        "      <td> 4.9</td>\n",
        "      <td> 2.5</td>\n",
        "      <td> 4.5</td>\n",
        "      <td> 1.7</td>\n",
        "      <td> 2</td>\n",
        "      <td> 1</td>\n",
        "    </tr>\n",
        "  </tbody>\n",
        "</table>\n",
        "</div>"
       ],
       "metadata": {},
       "output_type": "pyout",
       "prompt_number": 18,
       "text": [
        "    sepal length (cm)  sepal width (cm)  petal length (cm)  petal width (cm)  \\\n",
        "37                6.0               2.7                5.1               1.6   \n",
        "48                6.0               2.2                5.0               1.5   \n",
        "56                4.9               2.5                4.5               1.7   \n",
        "\n",
        "    species (actual)  species (predicted)  \n",
        "37                 1                    2  \n",
        "48                 2                    1  \n",
        "56                 2                    1  "
       ]
      }
     ],
     "prompt_number": 18
    },
    {
     "cell_type": "markdown",
     "metadata": {},
     "source": [
      "Trace the tree from root to leaf based to see where the rule was insufficient to correctly categorize #37, #48, and #56."
     ]
    },
    {
     "cell_type": "markdown",
     "metadata": {},
     "source": [
      "What does cross-validation look like if we use only our Train set?"
     ]
    },
    {
     "cell_type": "code",
     "collapsed": false,
     "input": [
      "model = tree.DecisionTreeClassifier(random_state=0).fit\n",
      "cross_validate(X_train, y_train,model,10)"
     ],
     "language": "python",
     "metadata": {},
     "outputs": [
      {
       "metadata": {},
       "output_type": "pyout",
       "prompt_number": 19,
       "text": [
        "0.96666666666666656"
       ]
      }
     ],
     "prompt_number": 19
    },
    {
     "cell_type": "markdown",
     "metadata": {},
     "source": [
      "Turns out the average score is actually slightly better, even though we used less data.  Maybe training with the entire dataset caused the model to be too complex - i.e. overfit?\n",
      "\n",
      "*Note: It is always good to double-check such cases, try with different random seeds, etc.  One instance often does not tell the whole story.*"
     ]
    },
    {
     "cell_type": "markdown",
     "metadata": {},
     "source": [
      "#### Limiting Tree Depth\n",
      "\n",
      "Looking at this second model, we can see that most of the work is done in the first 3 branches - only 3 items in the training set were categorized by the 4th branch.   What happens if we limit the depth of the tree to just 3 levels?"
     ]
    },
    {
     "cell_type": "code",
     "collapsed": false,
     "input": [
      "model = tree.DecisionTreeClassifier(max_depth=3, random_state=0)\n",
      "model.fit(X_train, y_train)\n"
     ],
     "language": "python",
     "metadata": {},
     "outputs": [
      {
       "metadata": {},
       "output_type": "pyout",
       "prompt_number": 20,
       "text": [
        "DecisionTreeClassifier(compute_importances=None, criterion='gini',\n",
        "            max_depth=3, max_features=None, min_density=None,\n",
        "            min_samples_leaf=1, min_samples_split=2, random_state=0,\n",
        "            splitter='best')"
       ]
      }
     ],
     "prompt_number": 20
    },
    {
     "cell_type": "code",
     "collapsed": false,
     "input": [
      "with open(\"iris2.dot\", 'w') as f:\n",
      "    f = tree.export_graphviz(model, out_file=f)\n",
      "! dot -Tpng iris2.dot -o iris2.png\n",
      "Image(\"iris2.png\")"
     ],
     "language": "python",
     "metadata": {},
     "outputs": [
      {
       "metadata": {},
       "output_type": "pyout",
       "png": "[encoded data removed]",
       "prompt_number": 21,
       "text": [
        "<IPython.core.display.Image at 0x1062ec5d0>"
       ]
      }
     ],
     "prompt_number": 21
    },
    {
     "cell_type": "markdown",
     "metadata": {},
     "source": [
      "Which features are most important in this classifier?  We can check by looking at the `importances`:"
     ]
    },
    {
     "cell_type": "markdown",
     "metadata": {},
     "source": [
      "model.feature_importances_\n",
      "Does limiting the max depth affect our average model performance with this training data?"
     ]
    },
    {
     "cell_type": "code",
     "collapsed": false,
     "input": [
      "model = tree.DecisionTreeClassifier(max_depth=3, random_state=0).fit\n",
      "cross_validate(iris.data, iris.target,model,10)"
     ],
     "language": "python",
     "metadata": {},
     "outputs": [
      {
       "metadata": {},
       "output_type": "pyout",
       "prompt_number": 22,
       "text": [
        "0.94666666666666666"
       ]
      }
     ],
     "prompt_number": 22
    },
    {
     "cell_type": "markdown",
     "metadata": {},
     "source": [
      "### Random Forest Classification"
     ]
    },
    {
     "cell_type": "code",
     "collapsed": false,
     "input": [
      "from sklearn.ensemble import RandomForestClassifier\n",
      "\n",
      "model = RandomForestClassifier(random_state=0).fit\n",
      "cross_validate(iris.data, iris.target, model, 10)"
     ],
     "language": "python",
     "metadata": {},
     "outputs": [
      {
       "metadata": {},
       "output_type": "pyout",
       "prompt_number": 23,
       "text": [
        "0.94000000000000006"
       ]
      }
     ],
     "prompt_number": 23
    },
    {
     "cell_type": "markdown",
     "metadata": {},
     "source": [
      "### Heart Disease Dataset\n",
      "ref: [https://archive.ics.uci.edu/ml/datasets/Heart+Disease](https://archive.ics.uci.edu/ml/datasets/Heart+Disease)"
     ]
    },
    {
     "cell_type": "markdown",
     "metadata": {},
     "source": [
      "#### Features\n",
      "\n",
      "    Dataset has 76 total attributes - 14 attributes are used:\n",
      "    1. #3 (age)\n",
      "    2. #4 (sex)\n",
      "    3. #9 (cp)\n",
      "    4. #10 (trestbps)\n",
      "    5. #12 (chol)\n",
      "    6. #16 (fbs)\n",
      "    7. #19 (restecg)\n",
      "    8. #32 (thalach)\n",
      "    9. #38 (exang)\n",
      "    10. #40 (oldpeak)\n",
      "    11. #41 (slope)\n",
      "    12. #44 (ca)\n",
      "    13. #51 (thal)\n",
      "    14. #58 (num) (the predicted attribute - 0 is healthy and 1,2,3,4 indicate heart disease) "
     ]
    },
    {
     "cell_type": "markdown",
     "metadata": {},
     "source": [
      "### Class Exercise: Implement Random Forest"
     ]
    },
    {
     "cell_type": "markdown",
     "metadata": {},
     "source": [
      "#### Import the dataset into a pandas dataframe:\n",
      "\n",
      "Note: You'll have to manually add column labels"
     ]
    },
    {
     "cell_type": "code",
     "collapsed": false,
     "input": [
      "df = pd.read_csv(\"heart_disease.csv\")"
     ],
     "language": "python",
     "metadata": {},
     "outputs": [],
     "prompt_number": 102
    },
    {
     "cell_type": "code",
     "collapsed": false,
     "input": [
      "df.columns = ['age', 'sex', 'cp', 'trestbps', 'chol', 'fbs', 'restecg', 'thalach', 'exang', 'oldpeak', 'slope', 'ca', 'thal', 'num']"
     ],
     "language": "python",
     "metadata": {},
     "outputs": [],
     "prompt_number": 103
    },
    {
     "cell_type": "code",
     "collapsed": false,
     "input": [
      "df = df.convert_objects(convert_numeric=True)"
     ],
     "language": "python",
     "metadata": {},
     "outputs": [],
     "prompt_number": 104
    },
    {
     "cell_type": "markdown",
     "metadata": {},
     "source": [
      "#### Prepare and validate the data:"
     ]
    },
    {
     "cell_type": "markdown",
     "metadata": {},
     "source": [
      "Investigate the data and check for missing values - we've used .info() before:"
     ]
    },
    {
     "cell_type": "code",
     "collapsed": false,
     "input": [
      "df.info()"
     ],
     "language": "python",
     "metadata": {},
     "outputs": [
      {
       "output_type": "stream",
       "stream": "stdout",
       "text": [
        "<class 'pandas.core.frame.DataFrame'>\n",
        "Int64Index: 302 entries, 0 to 301\n",
        "Data columns (total 14 columns):\n",
        "age         302 non-null float64\n",
        "sex         302 non-null float64\n",
        "cp          302 non-null float64\n",
        "trestbps    302 non-null float64\n",
        "chol        302 non-null float64\n",
        "fbs         302 non-null float64\n",
        "restecg     302 non-null float64\n",
        "thalach     302 non-null float64\n",
        "exang       302 non-null float64\n",
        "oldpeak     302 non-null float64\n",
        "slope       302 non-null float64\n",
        "ca          298 non-null float64\n",
        "thal        300 non-null float64\n",
        "num         302 non-null int64\n",
        "dtypes: float64(13), int64(1)"
       ]
      }
     ],
     "prompt_number": 105
    },
    {
     "cell_type": "markdown",
     "metadata": {},
     "source": [
      "#### Clean the data to ensure it can be used in a random forest algorithm"
     ]
    },
    {
     "cell_type": "code",
     "collapsed": false,
     "input": [
      "df.fillna(0)\n",
      "df['ca'][np.isnan(df.ca)] = 0\n",
      "df['thal'][np.isnan(df.thal)] = 0"
     ],
     "language": "python",
     "metadata": {},
     "outputs": [],
     "prompt_number": 112
    },
    {
     "cell_type": "markdown",
     "metadata": {},
     "source": [
      "#### Select Features and convert Target to Boolean Class for Heart Disease (i.e., values 1, 2, 3 and 4 all indicate heart disease)\n"
     ]
    },
    {
     "cell_type": "code",
     "collapsed": false,
     "input": [
      "df['num'][df.num != 0] = 1"
     ],
     "language": "python",
     "metadata": {},
     "outputs": [],
     "prompt_number": 113
    },
    {
     "cell_type": "code",
     "collapsed": false,
     "input": [
      "features = df.drop('num', axis=1)\n",
      "# features.head()\n",
      "target = df['num']"
     ],
     "language": "python",
     "metadata": {},
     "outputs": [],
     "prompt_number": 114
    },
    {
     "cell_type": "raw",
     "metadata": {},
     "source": []
    },
    {
     "cell_type": "code",
     "collapsed": false,
     "input": [
      "features.info()"
     ],
     "language": "python",
     "metadata": {},
     "outputs": [
      {
       "output_type": "stream",
       "stream": "stdout",
       "text": [
        "<class 'pandas.core.frame.DataFrame'>\n",
        "Int64Index: 302 entries, 0 to 301\n",
        "Data columns (total 13 columns):\n",
        "age         302 non-null float64\n",
        "sex         302 non-null float64\n",
        "cp          302 non-null float64\n",
        "trestbps    302 non-null float64\n",
        "chol        302 non-null float64\n",
        "fbs         302 non-null float64\n",
        "restecg     302 non-null float64\n",
        "thalach     302 non-null float64\n",
        "exang       302 non-null float64\n",
        "oldpeak     302 non-null float64\n",
        "slope       302 non-null float64\n",
        "ca          302 non-null float64\n",
        "thal        302 non-null float64\n",
        "dtypes: float64(13)"
       ]
      }
     ],
     "prompt_number": 115
    },
    {
     "cell_type": "markdown",
     "metadata": {},
     "source": [
      "#### Build the model and score with cross-validation"
     ]
    },
    {
     "cell_type": "code",
     "collapsed": false,
     "input": [
      "from sklearn.ensemble import RandomForestClassifier\n",
      "\n",
      "model = RandomForestClassifier(random_state=0).fit\n",
      "cross_validate(features.as_matrix(['age', 'sex', 'cp', 'trestbps', 'chol', 'fbs', 'restecg', 'thalach', 'exang', 'oldpeak', 'slope', 'ca', 'thal']), target.as_matrix(), model, 10)"
     ],
     "language": "python",
     "metadata": {},
     "outputs": [
      {
       "metadata": {},
       "output_type": "pyout",
       "prompt_number": 116,
       "text": [
        "0.78784946236559139"
       ]
      }
     ],
     "prompt_number": 116
    },
    {
     "cell_type": "code",
     "collapsed": false,
     "input": [],
     "language": "python",
     "metadata": {},
     "outputs": [],
     "prompt_number": 69
    },
    {
     "cell_type": "markdown",
     "metadata": {},
     "source": [
      "#### How important are the various features?"
     ]
    },
    {
     "cell_type": "code",
     "collapsed": false,
     "input": [],
     "language": "python",
     "metadata": {},
     "outputs": [],
     "prompt_number": 188
    }
   ],
   "metadata": {}
  }
 ]
}